{
  "nbformat": 4,
  "nbformat_minor": 0,
  "metadata": {
    "colab": {
      "name": "titanic_200127.ipynb",
      "provenance": [],
      "collapsed_sections": [],
      "toc_visible": true,
      "authorship_tag": "ABX9TyP4N+JkOhUAZ9JjcCf6o4uy",
      "include_colab_link": true
    },
    "kernelspec": {
      "name": "python3",
      "display_name": "Python 3"
    }
  },
  "cells": [
    {
      "cell_type": "markdown",
      "metadata": {
        "id": "view-in-github",
        "colab_type": "text"
      },
      "source": [
        "<a href=\"https://colab.research.google.com/github/sunny1c/Dacon/blob/master/titanic_200127.ipynb\" target=\"_parent\"><img src=\"https://colab.research.google.com/assets/colab-badge.svg\" alt=\"Open In Colab\"/></a>"
      ]
    },
    {
      "cell_type": "markdown",
      "metadata": {
        "id": "szbryffQrN6J",
        "colab_type": "text"
      },
      "source": [
        "## 데이터 업로드\n",
        "### 변수 설명\n",
        "* PassengerId : 승객 번호\n",
        "\n",
        "- Survived : 생존여부(1: 생존, 0 : 사망)\n",
        "\n",
        "- Pclass : 승선권 클래스(1 : 1st, 2 : 2nd ,3 : 3rd)\n",
        "\n",
        "- Name : 승객 이름\n",
        "\n",
        "- Sex : 승객 성별\n",
        "\n",
        "- Age : 승객 나이 \n",
        "\n",
        "- SibSp : 동반한 형제자매, 배우자 수\n",
        "\n",
        "- Patch : 동반한 부모, 자식 수\n",
        "\n",
        "- Ticket : 티켓의 고유 넘버\n",
        "\n",
        "- Fare 티켓의 요금\n",
        "\n",
        "- Cabin : 객실 번호\n",
        "\n",
        "- Embarked : 승선한 항구명(C : Cherbourg, Q : Queenstown, S : Southampton)"
      ]
    },
    {
      "cell_type": "code",
      "metadata": {
        "id": "f-6NXDKPrLkk",
        "colab_type": "code",
        "outputId": "9ebfeaba-5ab0-46b7-e3b2-f91e601b69f3",
        "colab": {
          "base_uri": "https://localhost:8080/",
          "height": 88
        }
      },
      "source": [
        "!unzip titanic.zip"
      ],
      "execution_count": 0,
      "outputs": [
        {
          "output_type": "stream",
          "text": [
            "Archive:  titanic.zip\n",
            "  inflating: gender_submission.csv   \n",
            "  inflating: test.csv                \n",
            "  inflating: train.csv               \n"
          ],
          "name": "stdout"
        }
      ]
    },
    {
      "cell_type": "markdown",
      "metadata": {
        "id": "mmW9OeNgrcBU",
        "colab_type": "text"
      },
      "source": [
        "## 분석 커널\n",
        "https://www.kaggle.com/poonaml/titanic-survival-prediction-end-to-end-ml-pipeline/data\n",
        "<br><br>\n",
        "### 순서\n",
        "*   Introduction\n",
        "1.   기초 통계량 추출\n",
        "2.   결측 컬럼 찾기\n",
        "*   Visualizations\n",
        "1.   target 컬럼과의 상관관계분석\n",
        "*   Missing values imputation\n",
        "1.   학습 데이터 결측 컬럼 imputation - Embarked,Age,Cabin\n",
        "2.   테스트 데이터 결측 컬럼 imputation - Age and Fare\n",
        "*   Feature Engineering\n",
        "1.   가족 사이즈\n",
        "2.   이름 타이틀(ms. mr. dr. 등)\n",
        "3. 승객이 속한 deck\n",
        "4. 범주형 자료 encoding - label encoding 사용\n",
        "5. scaling\n",
        "* Prediction\n",
        "1. 검증셋 만들기\n",
        "2. 모델 생성\n",
        "3. 중요 feature 분석\n",
        "4. 예측\n",
        "5. 앙상블 - Majority voting\n",
        "<br><br>  \\* Majority voting 이란?\n",
        "<br>  여러모형의 결과를 다수결 투표 방식으로 합하여 분류하는 방법\n",
        "<br>  - Hard voting : 단순 투표. 개별 모형의 결과 기준\n",
        "<br>  - Soft voting : 가중치 투표. 개별 모형의 조건부 확률의 합 기준\n",
        "<blockquote> 예) <br>로지스틱 모형 : 1일 확률 0.8, 0일 확률 0.2\n",
        "<br> 나이브 베이즈 : 1일 확률 0.7, 0일 확률 0.3\n",
        "<br> TREE : 1일 확률 0.4, 0일 확률 0.6\n",
        "<br> Hard voting은 모형 3개중 2개가 1로 분류 햇으므로 1로 분류\n",
        "<br> Soft voting은 모형 3개의 1일 확률을 가중해서 1일 확률을 다시 계산\n",
        "</blockquote>\n"
      ]
    },
    {
      "cell_type": "code",
      "metadata": {
        "id": "UhZD82w3rmI4",
        "colab_type": "code",
        "colab": {}
      },
      "source": [
        "import pandas as pd\n",
        "import numpy as np"
      ],
      "execution_count": 0,
      "outputs": []
    },
    {
      "cell_type": "code",
      "metadata": {
        "id": "pA84GMGGyAWN",
        "colab_type": "code",
        "outputId": "3acfbec0-a42d-4d37-d4e5-5b25a90f1900",
        "colab": {
          "base_uri": "https://localhost:8080/",
          "height": 251
        }
      },
      "source": [
        "titanic = pd.read_csv(\"train.csv\")\n",
        "titanic.head()"
      ],
      "execution_count": 0,
      "outputs": [
        {
          "output_type": "execute_result",
          "data": {
            "text/html": [
              "<div>\n",
              "<style scoped>\n",
              "    .dataframe tbody tr th:only-of-type {\n",
              "        vertical-align: middle;\n",
              "    }\n",
              "\n",
              "    .dataframe tbody tr th {\n",
              "        vertical-align: top;\n",
              "    }\n",
              "\n",
              "    .dataframe thead th {\n",
              "        text-align: right;\n",
              "    }\n",
              "</style>\n",
              "<table border=\"1\" class=\"dataframe\">\n",
              "  <thead>\n",
              "    <tr style=\"text-align: right;\">\n",
              "      <th></th>\n",
              "      <th>PassengerId</th>\n",
              "      <th>Survived</th>\n",
              "      <th>Pclass</th>\n",
              "      <th>Name</th>\n",
              "      <th>Sex</th>\n",
              "      <th>Age</th>\n",
              "      <th>SibSp</th>\n",
              "      <th>Parch</th>\n",
              "      <th>Ticket</th>\n",
              "      <th>Fare</th>\n",
              "      <th>Cabin</th>\n",
              "      <th>Embarked</th>\n",
              "    </tr>\n",
              "  </thead>\n",
              "  <tbody>\n",
              "    <tr>\n",
              "      <th>0</th>\n",
              "      <td>1</td>\n",
              "      <td>0</td>\n",
              "      <td>3</td>\n",
              "      <td>Braund, Mr. Owen Harris</td>\n",
              "      <td>male</td>\n",
              "      <td>22.0</td>\n",
              "      <td>1</td>\n",
              "      <td>0</td>\n",
              "      <td>A/5 21171</td>\n",
              "      <td>7.2500</td>\n",
              "      <td>NaN</td>\n",
              "      <td>S</td>\n",
              "    </tr>\n",
              "    <tr>\n",
              "      <th>1</th>\n",
              "      <td>2</td>\n",
              "      <td>1</td>\n",
              "      <td>1</td>\n",
              "      <td>Cumings, Mrs. John Bradley (Florence Briggs Th...</td>\n",
              "      <td>female</td>\n",
              "      <td>38.0</td>\n",
              "      <td>1</td>\n",
              "      <td>0</td>\n",
              "      <td>PC 17599</td>\n",
              "      <td>71.2833</td>\n",
              "      <td>C85</td>\n",
              "      <td>C</td>\n",
              "    </tr>\n",
              "    <tr>\n",
              "      <th>2</th>\n",
              "      <td>3</td>\n",
              "      <td>1</td>\n",
              "      <td>3</td>\n",
              "      <td>Heikkinen, Miss. Laina</td>\n",
              "      <td>female</td>\n",
              "      <td>26.0</td>\n",
              "      <td>0</td>\n",
              "      <td>0</td>\n",
              "      <td>STON/O2. 3101282</td>\n",
              "      <td>7.9250</td>\n",
              "      <td>NaN</td>\n",
              "      <td>S</td>\n",
              "    </tr>\n",
              "    <tr>\n",
              "      <th>3</th>\n",
              "      <td>4</td>\n",
              "      <td>1</td>\n",
              "      <td>1</td>\n",
              "      <td>Futrelle, Mrs. Jacques Heath (Lily May Peel)</td>\n",
              "      <td>female</td>\n",
              "      <td>35.0</td>\n",
              "      <td>1</td>\n",
              "      <td>0</td>\n",
              "      <td>113803</td>\n",
              "      <td>53.1000</td>\n",
              "      <td>C123</td>\n",
              "      <td>S</td>\n",
              "    </tr>\n",
              "    <tr>\n",
              "      <th>4</th>\n",
              "      <td>5</td>\n",
              "      <td>0</td>\n",
              "      <td>3</td>\n",
              "      <td>Allen, Mr. William Henry</td>\n",
              "      <td>male</td>\n",
              "      <td>35.0</td>\n",
              "      <td>0</td>\n",
              "      <td>0</td>\n",
              "      <td>373450</td>\n",
              "      <td>8.0500</td>\n",
              "      <td>NaN</td>\n",
              "      <td>S</td>\n",
              "    </tr>\n",
              "  </tbody>\n",
              "</table>\n",
              "</div>"
            ],
            "text/plain": [
              "   PassengerId  Survived  Pclass  ...     Fare Cabin  Embarked\n",
              "0            1         0       3  ...   7.2500   NaN         S\n",
              "1            2         1       1  ...  71.2833   C85         C\n",
              "2            3         1       3  ...   7.9250   NaN         S\n",
              "3            4         1       1  ...  53.1000  C123         S\n",
              "4            5         0       3  ...   8.0500   NaN         S\n",
              "\n",
              "[5 rows x 12 columns]"
            ]
          },
          "metadata": {
            "tags": []
          },
          "execution_count": 5
        }
      ]
    },
    {
      "cell_type": "code",
      "metadata": {
        "id": "fpBtgPHdyJ_q",
        "colab_type": "code",
        "outputId": "4c1f5401-a092-4d12-979b-73376bac3b61",
        "colab": {
          "base_uri": "https://localhost:8080/",
          "height": 399
        }
      },
      "source": [
        "titanic_test = pd.read_csv(\"test.csv\")\n",
        "titanic_test.head().T"
      ],
      "execution_count": 0,
      "outputs": [
        {
          "output_type": "execute_result",
          "data": {
            "text/html": [
              "<div>\n",
              "<style scoped>\n",
              "    .dataframe tbody tr th:only-of-type {\n",
              "        vertical-align: middle;\n",
              "    }\n",
              "\n",
              "    .dataframe tbody tr th {\n",
              "        vertical-align: top;\n",
              "    }\n",
              "\n",
              "    .dataframe thead th {\n",
              "        text-align: right;\n",
              "    }\n",
              "</style>\n",
              "<table border=\"1\" class=\"dataframe\">\n",
              "  <thead>\n",
              "    <tr style=\"text-align: right;\">\n",
              "      <th></th>\n",
              "      <th>0</th>\n",
              "      <th>1</th>\n",
              "      <th>2</th>\n",
              "      <th>3</th>\n",
              "      <th>4</th>\n",
              "    </tr>\n",
              "  </thead>\n",
              "  <tbody>\n",
              "    <tr>\n",
              "      <th>PassengerId</th>\n",
              "      <td>892</td>\n",
              "      <td>893</td>\n",
              "      <td>894</td>\n",
              "      <td>895</td>\n",
              "      <td>896</td>\n",
              "    </tr>\n",
              "    <tr>\n",
              "      <th>Pclass</th>\n",
              "      <td>3</td>\n",
              "      <td>3</td>\n",
              "      <td>2</td>\n",
              "      <td>3</td>\n",
              "      <td>3</td>\n",
              "    </tr>\n",
              "    <tr>\n",
              "      <th>Name</th>\n",
              "      <td>Kelly, Mr. James</td>\n",
              "      <td>Wilkes, Mrs. James (Ellen Needs)</td>\n",
              "      <td>Myles, Mr. Thomas Francis</td>\n",
              "      <td>Wirz, Mr. Albert</td>\n",
              "      <td>Hirvonen, Mrs. Alexander (Helga E Lindqvist)</td>\n",
              "    </tr>\n",
              "    <tr>\n",
              "      <th>Sex</th>\n",
              "      <td>male</td>\n",
              "      <td>female</td>\n",
              "      <td>male</td>\n",
              "      <td>male</td>\n",
              "      <td>female</td>\n",
              "    </tr>\n",
              "    <tr>\n",
              "      <th>Age</th>\n",
              "      <td>34.5</td>\n",
              "      <td>47</td>\n",
              "      <td>62</td>\n",
              "      <td>27</td>\n",
              "      <td>22</td>\n",
              "    </tr>\n",
              "    <tr>\n",
              "      <th>SibSp</th>\n",
              "      <td>0</td>\n",
              "      <td>1</td>\n",
              "      <td>0</td>\n",
              "      <td>0</td>\n",
              "      <td>1</td>\n",
              "    </tr>\n",
              "    <tr>\n",
              "      <th>Parch</th>\n",
              "      <td>0</td>\n",
              "      <td>0</td>\n",
              "      <td>0</td>\n",
              "      <td>0</td>\n",
              "      <td>1</td>\n",
              "    </tr>\n",
              "    <tr>\n",
              "      <th>Ticket</th>\n",
              "      <td>330911</td>\n",
              "      <td>363272</td>\n",
              "      <td>240276</td>\n",
              "      <td>315154</td>\n",
              "      <td>3101298</td>\n",
              "    </tr>\n",
              "    <tr>\n",
              "      <th>Fare</th>\n",
              "      <td>7.8292</td>\n",
              "      <td>7</td>\n",
              "      <td>9.6875</td>\n",
              "      <td>8.6625</td>\n",
              "      <td>12.2875</td>\n",
              "    </tr>\n",
              "    <tr>\n",
              "      <th>Cabin</th>\n",
              "      <td>NaN</td>\n",
              "      <td>NaN</td>\n",
              "      <td>NaN</td>\n",
              "      <td>NaN</td>\n",
              "      <td>NaN</td>\n",
              "    </tr>\n",
              "    <tr>\n",
              "      <th>Embarked</th>\n",
              "      <td>Q</td>\n",
              "      <td>S</td>\n",
              "      <td>Q</td>\n",
              "      <td>S</td>\n",
              "      <td>S</td>\n",
              "    </tr>\n",
              "  </tbody>\n",
              "</table>\n",
              "</div>"
            ],
            "text/plain": [
              "                            0  ...                                             4\n",
              "PassengerId               892  ...                                           896\n",
              "Pclass                      3  ...                                             3\n",
              "Name         Kelly, Mr. James  ...  Hirvonen, Mrs. Alexander (Helga E Lindqvist)\n",
              "Sex                      male  ...                                        female\n",
              "Age                      34.5  ...                                            22\n",
              "SibSp                       0  ...                                             1\n",
              "Parch                       0  ...                                             1\n",
              "Ticket                 330911  ...                                       3101298\n",
              "Fare                   7.8292  ...                                       12.2875\n",
              "Cabin                     NaN  ...                                           NaN\n",
              "Embarked                    Q  ...                                             S\n",
              "\n",
              "[11 rows x 5 columns]"
            ]
          },
          "metadata": {
            "tags": []
          },
          "execution_count": 6
        }
      ]
    },
    {
      "cell_type": "code",
      "metadata": {
        "id": "fisfh_HHygXG",
        "colab_type": "code",
        "outputId": "af513cea-3110-48a0-8d64-e6b928820289",
        "colab": {
          "base_uri": "https://localhost:8080/",
          "height": 35
        }
      },
      "source": [
        "titanic.shape"
      ],
      "execution_count": 0,
      "outputs": [
        {
          "output_type": "execute_result",
          "data": {
            "text/plain": [
              "(891, 12)"
            ]
          },
          "metadata": {
            "tags": []
          },
          "execution_count": 7
        }
      ]
    },
    {
      "cell_type": "markdown",
      "metadata": {
        "id": "zb6r3TWhyry9",
        "colab_type": "text"
      },
      "source": [
        "기초 통계량 추출"
      ]
    },
    {
      "cell_type": "code",
      "metadata": {
        "id": "1e2WxlKcyof3",
        "colab_type": "code",
        "outputId": "f6c9b297-3a34-4d6a-a963-b39101611b00",
        "colab": {
          "base_uri": "https://localhost:8080/",
          "height": 291
        }
      },
      "source": [
        "titanic.describe()\n",
        "# count를 보고 missing이 있는 컬럼 유추 가능 -- Age"
      ],
      "execution_count": 0,
      "outputs": [
        {
          "output_type": "execute_result",
          "data": {
            "text/html": [
              "<div>\n",
              "<style scoped>\n",
              "    .dataframe tbody tr th:only-of-type {\n",
              "        vertical-align: middle;\n",
              "    }\n",
              "\n",
              "    .dataframe tbody tr th {\n",
              "        vertical-align: top;\n",
              "    }\n",
              "\n",
              "    .dataframe thead th {\n",
              "        text-align: right;\n",
              "    }\n",
              "</style>\n",
              "<table border=\"1\" class=\"dataframe\">\n",
              "  <thead>\n",
              "    <tr style=\"text-align: right;\">\n",
              "      <th></th>\n",
              "      <th>PassengerId</th>\n",
              "      <th>Survived</th>\n",
              "      <th>Pclass</th>\n",
              "      <th>Age</th>\n",
              "      <th>SibSp</th>\n",
              "      <th>Parch</th>\n",
              "      <th>Fare</th>\n",
              "    </tr>\n",
              "  </thead>\n",
              "  <tbody>\n",
              "    <tr>\n",
              "      <th>count</th>\n",
              "      <td>891.000000</td>\n",
              "      <td>891.000000</td>\n",
              "      <td>891.000000</td>\n",
              "      <td>714.000000</td>\n",
              "      <td>891.000000</td>\n",
              "      <td>891.000000</td>\n",
              "      <td>891.000000</td>\n",
              "    </tr>\n",
              "    <tr>\n",
              "      <th>mean</th>\n",
              "      <td>446.000000</td>\n",
              "      <td>0.383838</td>\n",
              "      <td>2.308642</td>\n",
              "      <td>29.699118</td>\n",
              "      <td>0.523008</td>\n",
              "      <td>0.381594</td>\n",
              "      <td>32.204208</td>\n",
              "    </tr>\n",
              "    <tr>\n",
              "      <th>std</th>\n",
              "      <td>257.353842</td>\n",
              "      <td>0.486592</td>\n",
              "      <td>0.836071</td>\n",
              "      <td>14.526497</td>\n",
              "      <td>1.102743</td>\n",
              "      <td>0.806057</td>\n",
              "      <td>49.693429</td>\n",
              "    </tr>\n",
              "    <tr>\n",
              "      <th>min</th>\n",
              "      <td>1.000000</td>\n",
              "      <td>0.000000</td>\n",
              "      <td>1.000000</td>\n",
              "      <td>0.420000</td>\n",
              "      <td>0.000000</td>\n",
              "      <td>0.000000</td>\n",
              "      <td>0.000000</td>\n",
              "    </tr>\n",
              "    <tr>\n",
              "      <th>25%</th>\n",
              "      <td>223.500000</td>\n",
              "      <td>0.000000</td>\n",
              "      <td>2.000000</td>\n",
              "      <td>20.125000</td>\n",
              "      <td>0.000000</td>\n",
              "      <td>0.000000</td>\n",
              "      <td>7.910400</td>\n",
              "    </tr>\n",
              "    <tr>\n",
              "      <th>50%</th>\n",
              "      <td>446.000000</td>\n",
              "      <td>0.000000</td>\n",
              "      <td>3.000000</td>\n",
              "      <td>28.000000</td>\n",
              "      <td>0.000000</td>\n",
              "      <td>0.000000</td>\n",
              "      <td>14.454200</td>\n",
              "    </tr>\n",
              "    <tr>\n",
              "      <th>75%</th>\n",
              "      <td>668.500000</td>\n",
              "      <td>1.000000</td>\n",
              "      <td>3.000000</td>\n",
              "      <td>38.000000</td>\n",
              "      <td>1.000000</td>\n",
              "      <td>0.000000</td>\n",
              "      <td>31.000000</td>\n",
              "    </tr>\n",
              "    <tr>\n",
              "      <th>max</th>\n",
              "      <td>891.000000</td>\n",
              "      <td>1.000000</td>\n",
              "      <td>3.000000</td>\n",
              "      <td>80.000000</td>\n",
              "      <td>8.000000</td>\n",
              "      <td>6.000000</td>\n",
              "      <td>512.329200</td>\n",
              "    </tr>\n",
              "  </tbody>\n",
              "</table>\n",
              "</div>"
            ],
            "text/plain": [
              "       PassengerId    Survived      Pclass  ...       SibSp       Parch        Fare\n",
              "count   891.000000  891.000000  891.000000  ...  891.000000  891.000000  891.000000\n",
              "mean    446.000000    0.383838    2.308642  ...    0.523008    0.381594   32.204208\n",
              "std     257.353842    0.486592    0.836071  ...    1.102743    0.806057   49.693429\n",
              "min       1.000000    0.000000    1.000000  ...    0.000000    0.000000    0.000000\n",
              "25%     223.500000    0.000000    2.000000  ...    0.000000    0.000000    7.910400\n",
              "50%     446.000000    0.000000    3.000000  ...    0.000000    0.000000   14.454200\n",
              "75%     668.500000    1.000000    3.000000  ...    1.000000    0.000000   31.000000\n",
              "max     891.000000    1.000000    3.000000  ...    8.000000    6.000000  512.329200\n",
              "\n",
              "[8 rows x 7 columns]"
            ]
          },
          "metadata": {
            "tags": []
          },
          "execution_count": 8
        }
      ]
    },
    {
      "cell_type": "code",
      "metadata": {
        "id": "RXDMdxjZyqTM",
        "colab_type": "code",
        "outputId": "2814343b-9bde-48d0-cff9-19b2f47986d5",
        "colab": {
          "base_uri": "https://localhost:8080/",
          "height": 319
        }
      },
      "source": [
        "titanic.info()\n",
        "# 결측 비율과 데이터 타입, 메모리 사용량 등을 알 수 있다."
      ],
      "execution_count": 0,
      "outputs": [
        {
          "output_type": "stream",
          "text": [
            "<class 'pandas.core.frame.DataFrame'>\n",
            "RangeIndex: 891 entries, 0 to 890\n",
            "Data columns (total 12 columns):\n",
            "PassengerId    891 non-null int64\n",
            "Survived       891 non-null int64\n",
            "Pclass         891 non-null int64\n",
            "Name           891 non-null object\n",
            "Sex            891 non-null object\n",
            "Age            714 non-null float64\n",
            "SibSp          891 non-null int64\n",
            "Parch          891 non-null int64\n",
            "Ticket         891 non-null object\n",
            "Fare           891 non-null float64\n",
            "Cabin          204 non-null object\n",
            "Embarked       889 non-null object\n",
            "dtypes: float64(2), int64(5), object(5)\n",
            "memory usage: 83.7+ KB\n"
          ],
          "name": "stdout"
        }
      ]
    },
    {
      "cell_type": "code",
      "metadata": {
        "id": "gkgbD9kUzA9X",
        "colab_type": "code",
        "outputId": "4e19f521-9b2f-4933-b274-458c292f0640",
        "colab": {
          "base_uri": "https://localhost:8080/",
          "height": 248
        }
      },
      "source": [
        "null_columns=titanic.columns[titanic.isnull().any()]\n",
        "titanic.isnull().sum()\n",
        "#titanic.isnull() 은 데이터 셀 별로 결측인지 아닌지를 t/f로 ㅍ시\n",
        "# 컬럼별 결측값 수를 알 수 있는 명령어"
      ],
      "execution_count": 0,
      "outputs": [
        {
          "output_type": "execute_result",
          "data": {
            "text/plain": [
              "PassengerId      0\n",
              "Survived         0\n",
              "Pclass           0\n",
              "Name             0\n",
              "Sex              0\n",
              "Age            177\n",
              "SibSp            0\n",
              "Parch            0\n",
              "Ticket           0\n",
              "Fare             0\n",
              "Cabin          687\n",
              "Embarked         2\n",
              "dtype: int64"
            ]
          },
          "metadata": {
            "tags": []
          },
          "execution_count": 10
        }
      ]
    },
    {
      "cell_type": "code",
      "metadata": {
        "id": "k2s5xzEezL30",
        "colab_type": "code",
        "outputId": "cd00b865-2d33-45db-f43b-3e2a81319d2b",
        "colab": {
          "base_uri": "https://localhost:8080/",
          "height": 230
        }
      },
      "source": [
        "# 테스트 셋 결측치 확인\n",
        "titanic_test.isnull().sum()"
      ],
      "execution_count": 0,
      "outputs": [
        {
          "output_type": "execute_result",
          "data": {
            "text/plain": [
              "PassengerId      0\n",
              "Pclass           0\n",
              "Name             0\n",
              "Sex              0\n",
              "Age             86\n",
              "SibSp            0\n",
              "Parch            0\n",
              "Ticket           0\n",
              "Fare             1\n",
              "Cabin          327\n",
              "Embarked         0\n",
              "dtype: int64"
            ]
          },
          "metadata": {
            "tags": []
          },
          "execution_count": 13
        }
      ]
    },
    {
      "cell_type": "code",
      "metadata": {
        "id": "yQwNp0K1zQwO",
        "colab_type": "code",
        "outputId": "6aec5ba4-cdcb-4618-c9d2-1e9db1b4702a",
        "colab": {
          "base_uri": "https://localhost:8080/",
          "height": 355
        }
      },
      "source": [
        "# 결측값 수를 그림으로 확인하자\n",
        "%matplotlib inline\n",
        "import matplotlib.pyplot as plt\n",
        "import seaborn as sns\n",
        "sns.set(font_scale=1)\n",
        "\n",
        "# pd.options.display.mpl_style = 'default'\n",
        "labels = []\n",
        "values = []\n",
        "for col in null_columns:\n",
        "    labels.append(col)\n",
        "    values.append(titanic[col].isnull().sum())\n",
        "ind = np.arange(len(labels)) # barh(세로막대그래프) 의 x축에 넣기 위한 값\n",
        "width=0.6\n",
        "fig, ax = plt.subplots(figsize=(6,5))\n",
        "rects = ax.barh(ind, np.array(values), color='purple')\n",
        "ax.set_yticks(ind+((width)/2.)) # x축 레이블 위치 선정\n",
        "ax.set_yticklabels(labels, rotation='horizontal')\n",
        "ax.set_xlabel(\"Count of missing values\")\n",
        "ax.set_ylabel(\"Column Names\")\n",
        "ax.set_title(\"Variables with missing values\");"
      ],
      "execution_count": 0,
      "outputs": [
        {
          "output_type": "display_data",
          "data": {
            "image/png": "[encoded data removed]",
            "text/plain": [
              "<Figure size 432x360 with 1 Axes>"
            ]
          },
          "metadata": {
            "tags": []
          }
        }
      ]
    },
    {
      "cell_type": "code",
      "metadata": {
        "id": "s3jfO6ii0O90",
        "colab_type": "code",
        "outputId": "f87390e0-32e1-407e-ade8-4003d351eff0",
        "colab": {
          "base_uri": "https://localhost:8080/",
          "height": 447
        }
      },
      "source": [
        "# 컬럼별 분포 확인\n",
        "titanic.hist(bins=10,figsize=(9,7),grid=False)"
      ],
      "execution_count": 0,
      "outputs": [
        {
          "output_type": "display_data",
          "data": {
            "image/png": "[encoded data removed]",
            "text/plain": [
              "<Figure size 648x504 with 9 Axes>"
            ]
          },
          "metadata": {
            "tags": []
          }
        }
      ]
    },
    {
      "cell_type": "markdown",
      "metadata": {
        "id": "ozCBngQG01i-",
        "colab_type": "text"
      },
      "source": [
        "연속형 변수인 age와 fare의 scale이 다르다 -> scaling 필요"
      ]
    },
    {
      "cell_type": "code",
      "metadata": {
        "id": "tqfsSYxu0ghK",
        "colab_type": "code",
        "outputId": "82f82381-6589-406b-a1bd-c44ac7677925",
        "colab": {
          "base_uri": "https://localhost:8080/",
          "height": 437
        }
      },
      "source": [
        "# 성별, 생존여부별 age의 분포\n",
        "## 이건 왜 찍어보는지 이해는 안 감.. \n",
        "g = sns.FacetGrid(titanic, col=\"Sex\", row=\"Survived\", margin_titles=True)\n",
        "g.map(plt.hist, \"Age\",color=\"purple\");"
      ],
      "execution_count": 0,
      "outputs": [
        {
          "output_type": "display_data",
          "data": {
            "image/png": "[encoded data removed]",
            "text/plain": [
              "<Figure size 432x432 with 4 Axes>"
            ]
          },
          "metadata": {
            "tags": []
          }
        }
      ]
    },
    {
      "cell_type": "code",
      "metadata": {
        "id": "qU-Vvl0G1JJm",
        "colab_type": "code",
        "outputId": "f0ce75ff-b7cb-4292-b0fc-6f4698b038f6",
        "colab": {
          "base_uri": "https://localhost:8080/",
          "height": 221
        }
      },
      "source": [
        "# Pclass별 Fare와 Age의 관계\n",
        "g = sns.FacetGrid(titanic, hue=\"Survived\", col=\"Pclass\", margin_titles=True, palette={1:\"seagreen\", 0:\"gray\"})\n",
        "g=g.map(plt.scatter, \"Fare\", \"Age\",edgecolor=\"w\").add_legend();"
      ],
      "execution_count": 0,
      "outputs": [
        {
          "output_type": "display_data",
          "data": {
            "image/png": "[encoded data removed]",
            "text/plain": [
              "<Figure size 702.05x216 with 3 Axes>"
            ]
          },
          "metadata": {
            "tags": []
          }
        }
      ]
    },
    {
      "cell_type": "markdown",
      "metadata": {
        "id": "3f-SkUCU1kuF",
        "colab_type": "text"
      },
      "source": [
        "Pclass 1일 때 분포가 다른 것으로 보아 세 변수가 생존여부에 교차영향을 보인다. (내 생각)"
      ]
    },
    {
      "cell_type": "code",
      "metadata": {
        "id": "C-sYZbTE1X66",
        "colab_type": "code",
        "outputId": "9e671040-d339-4894-e815-0c66f2368f33",
        "colab": {
          "base_uri": "https://localhost:8080/",
          "height": 230
        }
      },
      "source": [
        "# 성별 age, fare, 생존 여부 분포\n",
        "g = sns.FacetGrid(titanic, hue=\"Survived\", col=\"Sex\", margin_titles=True, palette=\"Set1\",hue_kws=dict(marker=[\"^\", \"v\"]))\n",
        "# marker 조절을 v ^ 로 할 수 있음\n",
        "g.map(plt.scatter, \"Fare\", \"Age\",edgecolor=\"w\").add_legend()\n",
        "plt.subplots_adjust(top=0.8)\n",
        "g.fig.suptitle('Survival by Gender , Age and Fare');"
      ],
      "execution_count": 0,
      "outputs": [
        {
          "output_type": "display_data",
          "data": {
            "image/png": "[encoded data removed]",
            "text/plain": [
              "<Figure size 486.05x216 with 2 Axes>"
            ]
          },
          "metadata": {
            "tags": []
          }
        }
      ]
    },
    {
      "cell_type": "markdown",
      "metadata": {
        "id": "ngt8GCbL2MEH",
        "colab_type": "text"
      },
      "source": [
        "여자이고 나이가 어리고 fare값이 작은 경우 생존한 경우가 많았음"
      ]
    },
    {
      "cell_type": "code",
      "metadata": {
        "id": "HKdV8Z0E18jH",
        "colab_type": "code",
        "outputId": "691ceef1-b2e2-4304-8843-2e118b09f4b5",
        "colab": {
          "base_uri": "https://localhost:8080/",
          "height": 282
        }
      },
      "source": [
        "# 탑승 위치별 승객 수\n",
        "titanic.Embarked.value_counts().plot(kind='bar', alpha=0.55)\n",
        "plt.title(\"Passengers per boarding location\");"
      ],
      "execution_count": 0,
      "outputs": [
        {
          "output_type": "display_data",
          "data": {
            "image/png": "[encoded data removed]",
            "text/plain": [
              "<Figure size 432x288 with 1 Axes>"
            ]
          },
          "metadata": {
            "tags": []
          }
        }
      ]
    },
    {
      "cell_type": "code",
      "metadata": {
        "id": "6M0idokK2bvO",
        "colab_type": "code",
        "outputId": "2ba0193b-6c6b-49c3-afa1-53bbef05061a",
        "colab": {
          "base_uri": "https://localhost:8080/",
          "height": 421
        }
      },
      "source": [
        "# 탑승 위치별 생존확률 분포(상자그림)\n",
        "sns.factorplot(x = 'Embarked',y=\"Survived\", data = titanic,color=\"r\");"
      ],
      "execution_count": 0,
      "outputs": [
        {
          "output_type": "stream",
          "text": [
            "/usr/local/lib/python3.6/dist-packages/seaborn/categorical.py:3666: UserWarning: The `factorplot` function has been renamed to `catplot`. The original name will be removed in a future release. Please update your code. Note that the default `kind` in `factorplot` (`'point'`) has changed `'strip'` in `catplot`.\n",
            "  warnings.warn(msg)\n"
          ],
          "name": "stderr"
        },
        {
          "output_type": "display_data",
          "data": {
            "image/png": "[encoded data removed]",
            "text/plain": [
              "<Figure size 360x360 with 1 Axes>"
            ]
          },
          "metadata": {
            "tags": []
          }
        }
      ]
    },
    {
      "cell_type": "code",
      "metadata": {
        "id": "xkvnIQut2izc",
        "colab_type": "code",
        "outputId": "f291957a-e16a-47ca-c99c-12c06b276954",
        "colab": {
          "base_uri": "https://localhost:8080/",
          "height": 410
        }
      },
      "source": [
        "# 승객 클래스, 성별 생존확률\n",
        "sns.set(font_scale=1)\n",
        "g = sns.factorplot(x=\"Sex\", y=\"Survived\", col=\"Pclass\",\n",
        "                    data=titanic, saturation=.5,\n",
        "                    kind=\"bar\", ci=None, aspect=.6)\n",
        "(g.set_axis_labels(\"\", \"Survival Rate\")\n",
        "    .set_xticklabels([\"Men\", \"Women\"])\n",
        "    .set_titles(\"{col_name} {col_var}\")\n",
        "    .set(ylim=(0, 1))\n",
        "    .despine(left=True))  \n",
        "plt.subplots_adjust(top=0.8)\n",
        "g.fig.suptitle('How many Men and Women Survived by Passenger Class');"
      ],
      "execution_count": 0,
      "outputs": [
        {
          "output_type": "stream",
          "text": [
            "/usr/local/lib/python3.6/dist-packages/seaborn/categorical.py:3666: UserWarning: The `factorplot` function has been renamed to `catplot`. The original name will be removed in a future release. Please update your code. Note that the default `kind` in `factorplot` (`'point'`) has changed `'strip'` in `catplot`.\n",
            "  warnings.warn(msg)\n"
          ],
          "name": "stderr"
        },
        {
          "output_type": "display_data",
          "data": {
            "image/png": "[encoded data removed]",
            "text/plain": [
              "<Figure size 648x360 with 3 Axes>"
            ]
          },
          "metadata": {
            "tags": []
          }
        }
      ]
    },
    {
      "cell_type": "markdown",
      "metadata": {
        "id": "yXgMtI8p3d79",
        "colab_type": "text"
      },
      "source": [
        "여자가 생존확률이 높고 Pclass 1인 경우 생존 확률이 높음"
      ]
    },
    {
      "cell_type": "code",
      "metadata": {
        "id": "Z0tPe9nj3J8z",
        "colab_type": "code",
        "outputId": "82f8bc6e-4c2a-4437-a691-175478de5f97",
        "colab": {
          "base_uri": "https://localhost:8080/",
          "height": 285
        }
      },
      "source": [
        "# 생존여부 별 나이 분포\n",
        "ax = sns.boxplot(x=\"Survived\", y=\"Age\", data=titanic)\n",
        "ax = sns.stripplot(x=\"Survived\", y=\"Age\", data=titanic, jitter=True, edgecolor=\"gray\")\n",
        "# sns.plt.title(\"Survival by Age\",fontsize=12);"
      ],
      "execution_count": 0,
      "outputs": [
        {
          "output_type": "display_data",
          "data": {
            "image/png": "[encoded data removed]",
            "text/plain": [
              "<Figure size 432x288 with 1 Axes>"
            ]
          },
          "metadata": {
            "tags": []
          }
        }
      ]
    },
    {
      "cell_type": "markdown",
      "metadata": {
        "id": "mE3MPnn939Gd",
        "colab_type": "text"
      },
      "source": [
        "생존한 승객의 나이가 살짝 낮았다. 그러나 고령 승객 몇명도 있었음"
      ]
    },
    {
      "cell_type": "code",
      "metadata": {
        "id": "lqPOrOhB3rXG",
        "colab_type": "code",
        "outputId": "7c731926-02a2-4154-98ea-31a981780ab2",
        "colab": {
          "base_uri": "https://localhost:8080/",
          "height": 301
        }
      },
      "source": [
        "# 승객 클래스별 나이의 분포 \n",
        "titanic.Age[titanic.Pclass == 1].plot(kind='kde')    \n",
        "titanic.Age[titanic.Pclass == 2].plot(kind='kde')\n",
        "titanic.Age[titanic.Pclass == 3].plot(kind='kde')\n",
        " # plots an axis lable\n",
        "plt.xlabel(\"Age\")    \n",
        "plt.title(\"Age Distribution within classes\")\n",
        "# sets our legend for our graph.\n",
        "plt.legend(('1st Class', '2nd Class','3rd Class'),loc='best') ;"
      ],
      "execution_count": 0,
      "outputs": [
        {
          "output_type": "display_data",
          "data": {
            "image/png": "[encoded data removed]",
            "text/plain": [
              "<Figure size 432x288 with 1 Axes>"
            ]
          },
          "metadata": {
            "tags": []
          }
        }
      ]
    },
    {
      "cell_type": "markdown",
      "metadata": {
        "id": "wI5EMl584ZC0",
        "colab_type": "text"
      },
      "source": [
        "클래스가 높을수록 나이가 높고, 클래스가 낮을 수록 나이가 어리다."
      ]
    },
    {
      "cell_type": "code",
      "metadata": {
        "id": "zA3ClV_e4QRr",
        "colab_type": "code",
        "outputId": "fedaa02d-fa7b-436d-adb3-1a8e418aca63",
        "colab": {
          "base_uri": "https://localhost:8080/",
          "height": 574
        }
      },
      "source": [
        "# 변수별 상관관계 분석\n",
        "corr=titanic.corr()\n",
        "plt.figure(figsize=(10, 10))\n",
        "\n",
        "sns.heatmap(corr, vmax=.8, linewidths=0.01,\n",
        "            square=True,annot=True,cmap='YlGnBu',linecolor=\"white\")\n",
        "plt.title('Correlation between features');"
      ],
      "execution_count": 0,
      "outputs": [
        {
          "output_type": "display_data",
          "data": {
            "image/png": "[encoded data removed]",
            "text/plain": [
              "<Figure size 720x720 with 2 Axes>"
            ]
          },
          "metadata": {
            "tags": []
          }
        }
      ]
    },
    {
      "cell_type": "code",
      "metadata": {
        "id": "opTuTcPn4rL_",
        "colab_type": "code",
        "outputId": "d5767ab6-d7f2-4810-ddd8-17a8e18be834",
        "colab": {
          "base_uri": "https://localhost:8080/",
          "height": 159
        }
      },
      "source": [
        "# 생존여부와 관계가 높은 변수는?\n",
        "titanic.corr()[\"Survived\"]"
      ],
      "execution_count": 0,
      "outputs": [
        {
          "output_type": "execute_result",
          "data": {
            "text/plain": [
              "PassengerId   -0.005007\n",
              "Survived       1.000000\n",
              "Pclass        -0.338481\n",
              "Age           -0.077221\n",
              "SibSp         -0.035322\n",
              "Parch          0.081629\n",
              "Fare           0.257307\n",
              "Name: Survived, dtype: float64"
            ]
          },
          "metadata": {
            "tags": []
          },
          "execution_count": 36
        }
      ]
    },
    {
      "cell_type": "markdown",
      "metadata": {
        "id": "OFgYXYYr49rO",
        "colab_type": "text"
      },
      "source": [
        "클래스, 나이, 티켓요금 등이 생존 여부와 관계가 높다고 나왓으나, 이 세 변수간의 관계도 예상되기 때문에 고려할 필요가 있음\n",
        "<br> Parch(동반한 부모, 자식 수)가 많을수록 생존할 확률도 높앗음"
      ]
    },
    {
      "cell_type": "code",
      "metadata": {
        "id": "tAe7LQ8g45Qs",
        "colab_type": "code",
        "outputId": "ba74be1c-7a9b-4fde-a695-a488b3bd2c3e",
        "colab": {
          "base_uri": "https://localhost:8080/",
          "height": 528
        }
      },
      "source": [
        "g = sns.factorplot(x=\"Age\", y=\"Embarked\",\n",
        "                    hue=\"Sex\", row=\"Pclass\",\n",
        "                    data=titanic[titanic.Embarked.notnull()],\n",
        "                    orient=\"h\", size=2, aspect=3.5, \n",
        "                   palette={'male':\"purple\", 'female':\"blue\"},\n",
        "                    kind=\"violin\", split=True, cut=0, bw=.2);"
      ],
      "execution_count": 0,
      "outputs": [
        {
          "output_type": "stream",
          "text": [
            "/usr/local/lib/python3.6/dist-packages/seaborn/categorical.py:3666: UserWarning: The `factorplot` function has been renamed to `catplot`. The original name will be removed in a future release. Please update your code. Note that the default `kind` in `factorplot` (`'point'`) has changed `'strip'` in `catplot`.\n",
            "  warnings.warn(msg)\n",
            "/usr/local/lib/python3.6/dist-packages/seaborn/categorical.py:3672: UserWarning: The `size` paramter has been renamed to `height`; please update your code.\n",
            "  warnings.warn(msg, UserWarning)\n"
          ],
          "name": "stderr"
        },
        {
          "output_type": "display_data",
          "data": {
            "image/png": "[encoded data removed]",
            "text/plain": [
              "<Figure size 581.975x432 with 3 Axes>"
            ]
          },
          "metadata": {
            "tags": []
          }
        }
      ]
    },
    {
      "cell_type": "markdown",
      "metadata": {
        "id": "2fevXTrx6Fz7",
        "colab_type": "text"
      },
      "source": [
        "### Imputation\n",
        "* svm과 같은 알고리즘은 결측치가 없는 경우만 수행 가능\n",
        "* mean, median, mode로 imputation 하는 방법\n",
        "* tree나 random forest 로 하는 방법"
      ]
    },
    {
      "cell_type": "code",
      "metadata": {
        "id": "nJIVIxKN531H",
        "colab_type": "code",
        "outputId": "a2415501-b62b-48f1-8adf-098b6012bf74",
        "colab": {
          "base_uri": "https://localhost:8080/",
          "height": 126
        }
      },
      "source": [
        "# 탑승 위치 컬럼 imputation\n",
        "titanic[titanic['Embarked'].isnull()]"
      ],
      "execution_count": 0,
      "outputs": [
        {
          "output_type": "execute_result",
          "data": {
            "text/html": [
              "<div>\n",
              "<style scoped>\n",
              "    .dataframe tbody tr th:only-of-type {\n",
              "        vertical-align: middle;\n",
              "    }\n",
              "\n",
              "    .dataframe tbody tr th {\n",
              "        vertical-align: top;\n",
              "    }\n",
              "\n",
              "    .dataframe thead th {\n",
              "        text-align: right;\n",
              "    }\n",
              "</style>\n",
              "<table border=\"1\" class=\"dataframe\">\n",
              "  <thead>\n",
              "    <tr style=\"text-align: right;\">\n",
              "      <th></th>\n",
              "      <th>PassengerId</th>\n",
              "      <th>Survived</th>\n",
              "      <th>Pclass</th>\n",
              "      <th>Name</th>\n",
              "      <th>Sex</th>\n",
              "      <th>Age</th>\n",
              "      <th>SibSp</th>\n",
              "      <th>Parch</th>\n",
              "      <th>Ticket</th>\n",
              "      <th>Fare</th>\n",
              "      <th>Cabin</th>\n",
              "      <th>Embarked</th>\n",
              "    </tr>\n",
              "  </thead>\n",
              "  <tbody>\n",
              "    <tr>\n",
              "      <th>61</th>\n",
              "      <td>62</td>\n",
              "      <td>1</td>\n",
              "      <td>1</td>\n",
              "      <td>Icard, Miss. Amelie</td>\n",
              "      <td>female</td>\n",
              "      <td>38.0</td>\n",
              "      <td>0</td>\n",
              "      <td>0</td>\n",
              "      <td>113572</td>\n",
              "      <td>80.0</td>\n",
              "      <td>B28</td>\n",
              "      <td>NaN</td>\n",
              "    </tr>\n",
              "    <tr>\n",
              "      <th>829</th>\n",
              "      <td>830</td>\n",
              "      <td>1</td>\n",
              "      <td>1</td>\n",
              "      <td>Stone, Mrs. George Nelson (Martha Evelyn)</td>\n",
              "      <td>female</td>\n",
              "      <td>62.0</td>\n",
              "      <td>0</td>\n",
              "      <td>0</td>\n",
              "      <td>113572</td>\n",
              "      <td>80.0</td>\n",
              "      <td>B28</td>\n",
              "      <td>NaN</td>\n",
              "    </tr>\n",
              "  </tbody>\n",
              "</table>\n",
              "</div>"
            ],
            "text/plain": [
              "     PassengerId  Survived  Pclass  ...  Fare Cabin  Embarked\n",
              "61            62         1       1  ...  80.0   B28       NaN\n",
              "829          830         1       1  ...  80.0   B28       NaN\n",
              "\n",
              "[2 rows x 12 columns]"
            ]
          },
          "metadata": {
            "tags": []
          },
          "execution_count": 39
        }
      ]
    },
    {
      "cell_type": "markdown",
      "metadata": {
        "id": "v8E-KhB06qXg",
        "colab_type": "text"
      },
      "source": [
        "공통점을 찾으면, 클래스가 1등급이고, 성별이 여자, 요금이 80달러임\n",
        "<br>이 중 탑승위치와 관계가 있어보이는 변수는 클래스와 요금.\n",
        "<br>그래서 클래스와 요금 그래프를 그려본다"
      ]
    },
    {
      "cell_type": "code",
      "metadata": {
        "id": "BhrWYjcH6hJ8",
        "colab_type": "code",
        "outputId": "bb319d62-d2a3-4e4b-90ac-cedd514e1b3f",
        "colab": {
          "base_uri": "https://localhost:8080/",
          "height": 285
        }
      },
      "source": [
        "sns.boxplot(x=\"Embarked\", y=\"Fare\", hue=\"Pclass\", data=titanic);"
      ],
      "execution_count": 0,
      "outputs": [
        {
          "output_type": "display_data",
          "data": {
            "image/png": "[encoded data removed]",
            "text/plain": [
              "<Figure size 432x288 with 1 Axes>"
            ]
          },
          "metadata": {
            "tags": []
          }
        }
      ]
    },
    {
      "cell_type": "markdown",
      "metadata": {
        "id": "qpdXiOQY7J6V",
        "colab_type": "text"
      },
      "source": [
        "1등급 클래스의 요금 중간값이 80인 경우는 embarked C 였으므로 C로 값을 채운다"
      ]
    },
    {
      "cell_type": "code",
      "metadata": {
        "id": "jdFXgppw7BAL",
        "colab_type": "code",
        "colab": {}
      },
      "source": [
        "titanic[\"Embarked\"] = titanic[\"Embarked\"].fillna('C')"
      ],
      "execution_count": 0,
      "outputs": []
    },
    {
      "cell_type": "markdown",
      "metadata": {
        "id": "PAfBOM2t7cne",
        "colab_type": "text"
      },
      "source": [
        "테스트 데이터 imputation"
      ]
    },
    {
      "cell_type": "code",
      "metadata": {
        "id": "UmGhHmn77F6S",
        "colab_type": "code",
        "outputId": "4b6655b2-2d96-46b1-e066-a56e52de0a3d",
        "colab": {
          "base_uri": "https://localhost:8080/",
          "height": 291
        }
      },
      "source": [
        "titanic_test.describe()"
      ],
      "execution_count": 0,
      "outputs": [
        {
          "output_type": "execute_result",
          "data": {
            "text/html": [
              "<div>\n",
              "<style scoped>\n",
              "    .dataframe tbody tr th:only-of-type {\n",
              "        vertical-align: middle;\n",
              "    }\n",
              "\n",
              "    .dataframe tbody tr th {\n",
              "        vertical-align: top;\n",
              "    }\n",
              "\n",
              "    .dataframe thead th {\n",
              "        text-align: right;\n",
              "    }\n",
              "</style>\n",
              "<table border=\"1\" class=\"dataframe\">\n",
              "  <thead>\n",
              "    <tr style=\"text-align: right;\">\n",
              "      <th></th>\n",
              "      <th>PassengerId</th>\n",
              "      <th>Pclass</th>\n",
              "      <th>Age</th>\n",
              "      <th>SibSp</th>\n",
              "      <th>Parch</th>\n",
              "      <th>Fare</th>\n",
              "    </tr>\n",
              "  </thead>\n",
              "  <tbody>\n",
              "    <tr>\n",
              "      <th>count</th>\n",
              "      <td>418.000000</td>\n",
              "      <td>418.000000</td>\n",
              "      <td>332.000000</td>\n",
              "      <td>418.000000</td>\n",
              "      <td>418.000000</td>\n",
              "      <td>417.000000</td>\n",
              "    </tr>\n",
              "    <tr>\n",
              "      <th>mean</th>\n",
              "      <td>1100.500000</td>\n",
              "      <td>2.265550</td>\n",
              "      <td>30.272590</td>\n",
              "      <td>0.447368</td>\n",
              "      <td>0.392344</td>\n",
              "      <td>35.627188</td>\n",
              "    </tr>\n",
              "    <tr>\n",
              "      <th>std</th>\n",
              "      <td>120.810458</td>\n",
              "      <td>0.841838</td>\n",
              "      <td>14.181209</td>\n",
              "      <td>0.896760</td>\n",
              "      <td>0.981429</td>\n",
              "      <td>55.907576</td>\n",
              "    </tr>\n",
              "    <tr>\n",
              "      <th>min</th>\n",
              "      <td>892.000000</td>\n",
              "      <td>1.000000</td>\n",
              "      <td>0.170000</td>\n",
              "      <td>0.000000</td>\n",
              "      <td>0.000000</td>\n",
              "      <td>0.000000</td>\n",
              "    </tr>\n",
              "    <tr>\n",
              "      <th>25%</th>\n",
              "      <td>996.250000</td>\n",
              "      <td>1.000000</td>\n",
              "      <td>21.000000</td>\n",
              "      <td>0.000000</td>\n",
              "      <td>0.000000</td>\n",
              "      <td>7.895800</td>\n",
              "    </tr>\n",
              "    <tr>\n",
              "      <th>50%</th>\n",
              "      <td>1100.500000</td>\n",
              "      <td>3.000000</td>\n",
              "      <td>27.000000</td>\n",
              "      <td>0.000000</td>\n",
              "      <td>0.000000</td>\n",
              "      <td>14.454200</td>\n",
              "    </tr>\n",
              "    <tr>\n",
              "      <th>75%</th>\n",
              "      <td>1204.750000</td>\n",
              "      <td>3.000000</td>\n",
              "      <td>39.000000</td>\n",
              "      <td>1.000000</td>\n",
              "      <td>0.000000</td>\n",
              "      <td>31.500000</td>\n",
              "    </tr>\n",
              "    <tr>\n",
              "      <th>max</th>\n",
              "      <td>1309.000000</td>\n",
              "      <td>3.000000</td>\n",
              "      <td>76.000000</td>\n",
              "      <td>8.000000</td>\n",
              "      <td>9.000000</td>\n",
              "      <td>512.329200</td>\n",
              "    </tr>\n",
              "  </tbody>\n",
              "</table>\n",
              "</div>"
            ],
            "text/plain": [
              "       PassengerId      Pclass         Age       SibSp       Parch        Fare\n",
              "count   418.000000  418.000000  332.000000  418.000000  418.000000  417.000000\n",
              "mean   1100.500000    2.265550   30.272590    0.447368    0.392344   35.627188\n",
              "std     120.810458    0.841838   14.181209    0.896760    0.981429   55.907576\n",
              "min     892.000000    1.000000    0.170000    0.000000    0.000000    0.000000\n",
              "25%     996.250000    1.000000   21.000000    0.000000    0.000000    7.895800\n",
              "50%    1100.500000    3.000000   27.000000    0.000000    0.000000   14.454200\n",
              "75%    1204.750000    3.000000   39.000000    1.000000    0.000000   31.500000\n",
              "max    1309.000000    3.000000   76.000000    8.000000    9.000000  512.329200"
            ]
          },
          "metadata": {
            "tags": []
          },
          "execution_count": 43
        }
      ]
    },
    {
      "cell_type": "code",
      "metadata": {
        "id": "ksHR4k6U7bCX",
        "colab_type": "code",
        "outputId": "3c8af1cb-7c94-4b9a-d2cb-cbd02ecd0ba2",
        "colab": {
          "base_uri": "https://localhost:8080/",
          "height": 78
        }
      },
      "source": [
        "titanic_test[titanic_test['Fare'].isnull()]"
      ],
      "execution_count": 0,
      "outputs": [
        {
          "output_type": "execute_result",
          "data": {
            "text/html": [
              "<div>\n",
              "<style scoped>\n",
              "    .dataframe tbody tr th:only-of-type {\n",
              "        vertical-align: middle;\n",
              "    }\n",
              "\n",
              "    .dataframe tbody tr th {\n",
              "        vertical-align: top;\n",
              "    }\n",
              "\n",
              "    .dataframe thead th {\n",
              "        text-align: right;\n",
              "    }\n",
              "</style>\n",
              "<table border=\"1\" class=\"dataframe\">\n",
              "  <thead>\n",
              "    <tr style=\"text-align: right;\">\n",
              "      <th></th>\n",
              "      <th>PassengerId</th>\n",
              "      <th>Pclass</th>\n",
              "      <th>Name</th>\n",
              "      <th>Sex</th>\n",
              "      <th>Age</th>\n",
              "      <th>SibSp</th>\n",
              "      <th>Parch</th>\n",
              "      <th>Ticket</th>\n",
              "      <th>Fare</th>\n",
              "      <th>Cabin</th>\n",
              "      <th>Embarked</th>\n",
              "    </tr>\n",
              "  </thead>\n",
              "  <tbody>\n",
              "    <tr>\n",
              "      <th>152</th>\n",
              "      <td>1044</td>\n",
              "      <td>3</td>\n",
              "      <td>Storey, Mr. Thomas</td>\n",
              "      <td>male</td>\n",
              "      <td>60.5</td>\n",
              "      <td>0</td>\n",
              "      <td>0</td>\n",
              "      <td>3701</td>\n",
              "      <td>NaN</td>\n",
              "      <td>NaN</td>\n",
              "      <td>S</td>\n",
              "    </tr>\n",
              "  </tbody>\n",
              "</table>\n",
              "</div>"
            ],
            "text/plain": [
              "     PassengerId  Pclass                Name   Sex  ...  Ticket  Fare  Cabin Embarked\n",
              "152         1044       3  Storey, Mr. Thomas  male  ...    3701   NaN    NaN        S\n",
              "\n",
              "[1 rows x 11 columns]"
            ]
          },
          "metadata": {
            "tags": []
          },
          "execution_count": 44
        }
      ]
    },
    {
      "cell_type": "markdown",
      "metadata": {
        "id": "b2l8HZyJ7rhu",
        "colab_type": "text"
      },
      "source": [
        "연속형 변수이므로 3등급 클래스이고 탑승 위치가 S인 경우의 median으로 값을 imputation 한다"
      ]
    },
    {
      "cell_type": "code",
      "metadata": {
        "id": "ES23vE6S7hz7",
        "colab_type": "code",
        "colab": {}
      },
      "source": [
        "def fill_missing_fare(df):\n",
        "    median_fare=df[(df['Pclass'] == 3) & (df['Embarked'] == 'S')]['Fare'].median()\n",
        "#'S'\n",
        "       #print(median_fare)\n",
        "    df[\"Fare\"] = df[\"Fare\"].fillna(median_fare)\n",
        "    return df\n",
        "\n",
        "titanic_test=fill_missing_fare(titanic_test)"
      ],
      "execution_count": 0,
      "outputs": []
    },
    {
      "cell_type": "markdown",
      "metadata": {
        "id": "ViMTnFB477Qt",
        "colab_type": "text"
      },
      "source": [
        "### Feature Engineering"
      ]
    },
    {
      "cell_type": "code",
      "metadata": {
        "id": "uFGr9zj370gI",
        "colab_type": "code",
        "outputId": "8473df7b-df52-40b1-d8ff-7b000074c1df",
        "colab": {
          "base_uri": "https://localhost:8080/",
          "height": 35
        }
      },
      "source": [
        "titanic[\"Deck\"]=titanic.Cabin.str[0]\n",
        "titanic_test[\"Deck\"]=titanic_test.Cabin.str[0]\n",
        "titanic[\"Deck\"].unique() # 0 is for null values"
      ],
      "execution_count": 0,
      "outputs": [
        {
          "output_type": "execute_result",
          "data": {
            "text/plain": [
              "array([nan, 'C', 'E', 'G', 'D', 'A', 'B', 'F', 'T'], dtype=object)"
            ]
          },
          "metadata": {
            "tags": []
          },
          "execution_count": 46
        }
      ]
    },
    {
      "cell_type": "code",
      "metadata": {
        "id": "oYMxmtp08AKL",
        "colab_type": "code",
        "outputId": "74224d21-53a6-4a97-d19f-e747214a894e",
        "colab": {
          "base_uri": "https://localhost:8080/",
          "height": 456
        }
      },
      "source": [
        "g = sns.factorplot(\"Survived\", col=\"Deck\", col_wrap=4,\n",
        "                    data=titanic[titanic.Deck.notnull()],\n",
        "                    kind=\"count\", size=2.5, aspect=.8);"
      ],
      "execution_count": 0,
      "outputs": [
        {
          "output_type": "stream",
          "text": [
            "/usr/local/lib/python3.6/dist-packages/seaborn/categorical.py:3666: UserWarning: The `factorplot` function has been renamed to `catplot`. The original name will be removed in a future release. Please update your code. Note that the default `kind` in `factorplot` (`'point'`) has changed `'strip'` in `catplot`.\n",
            "  warnings.warn(msg)\n",
            "/usr/local/lib/python3.6/dist-packages/seaborn/categorical.py:3672: UserWarning: The `size` paramter has been renamed to `height`; please update your code.\n",
            "  warnings.warn(msg, UserWarning)\n"
          ],
          "name": "stderr"
        },
        {
          "output_type": "display_data",
          "data": {
            "image/png": "[encoded data removed]",
            "text/plain": [
              "<Figure size 576x360 with 8 Axes>"
            ]
          },
          "metadata": {
            "tags": []
          }
        }
      ]
    },
    {
      "cell_type": "code",
      "metadata": {
        "id": "iTwrgGP28GrO",
        "colab_type": "code",
        "outputId": "481e65a3-149d-4a1d-8fa8-385ba9cec7de",
        "colab": {
          "base_uri": "https://localhost:8080/",
          "height": 276
        }
      },
      "source": [
        "titanic = titanic.assign(Deck=titanic.Deck.astype(object)).sort_values(\"Deck\")\n",
        "g = sns.FacetGrid(titanic, col=\"Pclass\", sharex=False,\n",
        "                  gridspec_kws={\"width_ratios\": [5, 3, 3]})\n",
        "g.map(sns.boxplot, \"Deck\", \"Age\");"
      ],
      "execution_count": 0,
      "outputs": [
        {
          "output_type": "stream",
          "text": [
            "/usr/local/lib/python3.6/dist-packages/seaborn/axisgrid.py:715: UserWarning: Using the boxplot function without specifying `order` is likely to produce an incorrect plot.\n",
            "  warnings.warn(warning)\n"
          ],
          "name": "stderr"
        },
        {
          "output_type": "display_data",
          "data": {
            "image/png": "[encoded data removed]",
            "text/plain": [
              "<Figure size 648x216 with 3 Axes>"
            ]
          },
          "metadata": {
            "tags": []
          }
        }
      ]
    },
    {
      "cell_type": "code",
      "metadata": {
        "id": "27zVGC1a8OWv",
        "colab_type": "code",
        "outputId": "3c2131f4-d122-43c0-f25f-cc70296c105e",
        "colab": {
          "base_uri": "https://localhost:8080/",
          "height": 35
        }
      },
      "source": [
        "titanic.Deck.fillna('Z', inplace=True)\n",
        "titanic_test.Deck.fillna('Z', inplace=True)\n",
        "titanic[\"Deck\"].unique() # Z is for null values"
      ],
      "execution_count": 0,
      "outputs": [
        {
          "output_type": "execute_result",
          "data": {
            "text/plain": [
              "array(['Z', 'C', 'E', 'G', 'D', 'A', 'B', 'F', 'T'], dtype=object)"
            ]
          },
          "metadata": {
            "tags": []
          },
          "execution_count": 50
        }
      ]
    },
    {
      "cell_type": "markdown",
      "metadata": {
        "id": "m4xa23uW8qo2",
        "colab_type": "text"
      },
      "source": [
        "Patch : 동반한 부모, 자식 수, SibSp : 동반한 형제자매, 배우자 수 를 합쳐서 가족의 수를 계산해보자"
      ]
    },
    {
      "cell_type": "code",
      "metadata": {
        "id": "mHV5PaxA8WDE",
        "colab_type": "code",
        "outputId": "5e1314e1-7b73-467e-b979-480ea15b1123",
        "colab": {
          "base_uri": "https://localhost:8080/",
          "height": 195
        }
      },
      "source": [
        "# Create a family size variable including the passenger themselves\n",
        "titanic[\"FamilySize\"] = titanic[\"SibSp\"] + titanic[\"Parch\"]+1\n",
        "titanic_test[\"FamilySize\"] = titanic_test[\"SibSp\"] + titanic_test[\"Parch\"]+1\n",
        "print(titanic[\"FamilySize\"].value_counts())"
      ],
      "execution_count": 0,
      "outputs": [
        {
          "output_type": "stream",
          "text": [
            "1     537\n",
            "2     161\n",
            "3     102\n",
            "4      29\n",
            "6      22\n",
            "5      15\n",
            "7      12\n",
            "11      7\n",
            "8       6\n",
            "Name: FamilySize, dtype: int64\n"
          ],
          "name": "stdout"
        }
      ]
    },
    {
      "cell_type": "code",
      "metadata": {
        "id": "iIVIYzAm8fln",
        "colab_type": "code",
        "outputId": "4cfe45f2-78d9-4e5d-cfde-f4968308d6c8",
        "colab": {
          "base_uri": "https://localhost:8080/",
          "height": 106
        }
      },
      "source": [
        "# Discretize family size\n",
        "titanic.loc[titanic[\"FamilySize\"] == 1, \"FsizeD\"] = 'singleton'\n",
        "titanic.loc[(titanic[\"FamilySize\"] > 1)  &  (titanic[\"FamilySize\"] < 5) , \"FsizeD\"] = 'small'\n",
        "titanic.loc[titanic[\"FamilySize\"] >4, \"FsizeD\"] = 'large'\n",
        "\n",
        "titanic_test.loc[titanic_test[\"FamilySize\"] == 1, \"FsizeD\"] = 'singleton'\n",
        "titanic_test.loc[(titanic_test[\"FamilySize\"] >1) & (titanic_test[\"FamilySize\"] <5) , \"FsizeD\"] = 'small'\n",
        "titanic_test.loc[titanic_test[\"FamilySize\"] >4, \"FsizeD\"] = 'large'\n",
        "print(titanic[\"FsizeD\"].unique())\n",
        "print(titanic[\"FsizeD\"].value_counts())"
      ],
      "execution_count": 0,
      "outputs": [
        {
          "output_type": "stream",
          "text": [
            "['small' 'singleton' 'large']\n",
            "singleton    537\n",
            "small        292\n",
            "large         62\n",
            "Name: FsizeD, dtype: int64\n"
          ],
          "name": "stdout"
        }
      ]
    },
    {
      "cell_type": "code",
      "metadata": {
        "id": "Bksj9ikf8z1J",
        "colab_type": "code",
        "outputId": "4316baba-56db-4430-8a25-65e4a78f3457",
        "colab": {
          "base_uri": "https://localhost:8080/",
          "height": 421
        }
      },
      "source": [
        "sns.factorplot(x=\"FsizeD\", y=\"Survived\", data=titanic);"
      ],
      "execution_count": 0,
      "outputs": [
        {
          "output_type": "stream",
          "text": [
            "/usr/local/lib/python3.6/dist-packages/seaborn/categorical.py:3666: UserWarning: The `factorplot` function has been renamed to `catplot`. The original name will be removed in a future release. Please update your code. Note that the default `kind` in `factorplot` (`'point'`) has changed `'strip'` in `catplot`.\n",
            "  warnings.warn(msg)\n"
          ],
          "name": "stderr"
        },
        {
          "output_type": "display_data",
          "data": {
            "image/png": "[encoded data removed]",
            "text/plain": [
              "<Figure size 360x360 with 1 Axes>"
            ]
          },
          "metadata": {
            "tags": []
          }
        }
      ]
    },
    {
      "cell_type": "markdown",
      "metadata": {
        "id": "swU4-ykT9BKE",
        "colab_type": "text"
      },
      "source": [
        "이름의 길이를 분석해본다.. (이해는 안 감)"
      ]
    },
    {
      "cell_type": "code",
      "metadata": {
        "id": "6O9ZYp0C86Nr",
        "colab_type": "code",
        "outputId": "8ae38795-e7d8-4e61-9b68-05c5e81efeba",
        "colab": {
          "base_uri": "https://localhost:8080/",
          "height": 456
        }
      },
      "source": [
        "#Create feture for length of name \n",
        "# The .apply method generates a new series\n",
        "titanic[\"NameLength\"] = titanic[\"Name\"].apply(lambda x: len(x))\n",
        "\n",
        "titanic_test[\"NameLength\"] = titanic_test[\"Name\"].apply(lambda x: len(x))\n",
        "#print(titanic[\"NameLength\"].value_counts())\n",
        "\n",
        "bins = [0, 20, 40, 57, 85]\n",
        "group_names = ['short', 'okay', 'good', 'long']\n",
        "titanic['NlengthD'] = pd.cut(titanic['NameLength'], bins, labels=group_names)\n",
        "titanic_test['NlengthD'] = pd.cut(titanic_test['NameLength'], bins, labels=group_names)\n",
        "\n",
        "sns.factorplot(x=\"NlengthD\", y=\"Survived\", data=titanic)\n",
        "print(titanic[\"NlengthD\"].unique())"
      ],
      "execution_count": 0,
      "outputs": [
        {
          "output_type": "stream",
          "text": [
            "/usr/local/lib/python3.6/dist-packages/seaborn/categorical.py:3666: UserWarning: The `factorplot` function has been renamed to `catplot`. The original name will be removed in a future release. Please update your code. Note that the default `kind` in `factorplot` (`'point'`) has changed `'strip'` in `catplot`.\n",
            "  warnings.warn(msg)\n"
          ],
          "name": "stderr"
        },
        {
          "output_type": "stream",
          "text": [
            "[okay, short, good, long]\n",
            "Categories (4, object): [short < okay < good < long]\n"
          ],
          "name": "stdout"
        },
        {
          "output_type": "display_data",
          "data": {
            "image/png": "[encoded data removed]",
            "text/plain": [
              "<Figure size 360x360 with 1 Axes>"
            ]
          },
          "metadata": {
            "tags": []
          }
        }
      ]
    },
    {
      "cell_type": "markdown",
      "metadata": {
        "id": "JUelZK3F9JrF",
        "colab_type": "text"
      },
      "source": [
        "직위를 분석해본다"
      ]
    },
    {
      "cell_type": "code",
      "metadata": {
        "id": "Rtvr59Ip8_42",
        "colab_type": "code",
        "outputId": "79401718-562f-4bbc-cd5e-a014edb78110",
        "colab": {
          "base_uri": "https://localhost:8080/",
          "height": 621
        }
      },
      "source": [
        "import re\n",
        "\n",
        "#A function to get the title from a name.\n",
        "def get_title(name):\n",
        "    # Use a regular expression to search for a title.  Titles always consist of capital and lowercase letters, and end with a period.\n",
        "    title_search = re.search(' ([A-Za-z]+)\\.', name)\n",
        "    #If the title exists, extract and return it.\n",
        "    if title_search:\n",
        "        return title_search.group(1)\n",
        "    return \"\"\n",
        "\n",
        "#Get all the titles and print how often each one occurs.\n",
        "titles = titanic[\"Name\"].apply(get_title)\n",
        "print(pd.value_counts(titles))\n",
        "\n",
        "\n",
        "#Add in the title column.\n",
        "titanic[\"Title\"] = titles\n",
        "\n",
        "# Titles with very low cell counts to be combined to \"rare\" level\n",
        "rare_title = ['Dona', 'Lady', 'Countess','Capt', 'Col', 'Don', \n",
        "                'Dr', 'Major', 'Rev', 'Sir', 'Jonkheer']\n",
        "\n",
        "# Also reassign mlle, ms, and mme accordingly\n",
        "titanic.loc[titanic[\"Title\"] == \"Mlle\", \"Title\"] = 'Miss'\n",
        "titanic.loc[titanic[\"Title\"] == \"Ms\", \"Title\"] = 'Miss'\n",
        "titanic.loc[titanic[\"Title\"] == \"Mme\", \"Title\"] = 'Mrs'\n",
        "titanic.loc[titanic[\"Title\"] == \"Dona\", \"Title\"] = 'Rare Title'\n",
        "titanic.loc[titanic[\"Title\"] == \"Lady\", \"Title\"] = 'Rare Title'\n",
        "titanic.loc[titanic[\"Title\"] == \"Countess\", \"Title\"] = 'Rare Title'\n",
        "titanic.loc[titanic[\"Title\"] == \"Capt\", \"Title\"] = 'Rare Title'\n",
        "titanic.loc[titanic[\"Title\"] == \"Col\", \"Title\"] = 'Rare Title'\n",
        "titanic.loc[titanic[\"Title\"] == \"Don\", \"Title\"] = 'Rare Title'\n",
        "titanic.loc[titanic[\"Title\"] == \"Major\", \"Title\"] = 'Rare Title'\n",
        "titanic.loc[titanic[\"Title\"] == \"Rev\", \"Title\"] = 'Rare Title'\n",
        "titanic.loc[titanic[\"Title\"] == \"Sir\", \"Title\"] = 'Rare Title'\n",
        "titanic.loc[titanic[\"Title\"] == \"Jonkheer\", \"Title\"] = 'Rare Title'\n",
        "titanic.loc[titanic[\"Title\"] == \"Dr\", \"Title\"] = 'Rare Title'\n",
        "\n",
        "#titanic.loc[titanic[\"Title\"].isin(['Dona', 'Lady', 'Countess','Capt', 'Col', 'Don', \n",
        "#                'Dr', 'Major', 'Rev', 'Sir', 'Jonkheer']), \"Title\"] = 'Rare Title'\n",
        "\n",
        "#titanic[titanic['Title'].isin(['Dona', 'Lady', 'Countess'])]\n",
        "#titanic.query(\"Title in ('Dona', 'Lady', 'Countess')\")\n",
        "\n",
        "titanic[\"Title\"].value_counts()\n",
        "\n",
        "\n",
        "titles = titanic_test[\"Name\"].apply(get_title)\n",
        "print(pd.value_counts(titles))\n",
        "\n",
        "#Add in the title column.\n",
        "titanic_test[\"Title\"] = titles\n",
        "\n",
        "# Titles with very low cell counts to be combined to \"rare\" level\n",
        "rare_title = ['Dona', 'Lady', 'Countess','Capt', 'Col', 'Don', \n",
        "                'Dr', 'Major', 'Rev', 'Sir', 'Jonkheer']\n",
        "\n",
        "# Also reassign mlle, ms, and mme accordingly\n",
        "titanic_test.loc[titanic_test[\"Title\"] == \"Mlle\", \"Title\"] = 'Miss'\n",
        "titanic_test.loc[titanic_test[\"Title\"] == \"Ms\", \"Title\"] = 'Miss'\n",
        "titanic_test.loc[titanic_test[\"Title\"] == \"Mme\", \"Title\"] = 'Mrs'\n",
        "titanic_test.loc[titanic_test[\"Title\"] == \"Dona\", \"Title\"] = 'Rare Title'\n",
        "titanic_test.loc[titanic_test[\"Title\"] == \"Lady\", \"Title\"] = 'Rare Title'\n",
        "titanic_test.loc[titanic_test[\"Title\"] == \"Countess\", \"Title\"] = 'Rare Title'\n",
        "titanic_test.loc[titanic_test[\"Title\"] == \"Capt\", \"Title\"] = 'Rare Title'\n",
        "titanic_test.loc[titanic_test[\"Title\"] == \"Col\", \"Title\"] = 'Rare Title'\n",
        "titanic_test.loc[titanic_test[\"Title\"] == \"Don\", \"Title\"] = 'Rare Title'\n",
        "titanic_test.loc[titanic_test[\"Title\"] == \"Major\", \"Title\"] = 'Rare Title'\n",
        "titanic_test.loc[titanic_test[\"Title\"] == \"Rev\", \"Title\"] = 'Rare Title'\n",
        "titanic_test.loc[titanic_test[\"Title\"] == \"Sir\", \"Title\"] = 'Rare Title'\n",
        "titanic_test.loc[titanic_test[\"Title\"] == \"Jonkheer\", \"Title\"] = 'Rare Title'\n",
        "titanic_test.loc[titanic_test[\"Title\"] == \"Dr\", \"Title\"] = 'Rare Title'\n",
        "\n",
        "titanic_test[\"Title\"].value_counts()"
      ],
      "execution_count": 0,
      "outputs": [
        {
          "output_type": "stream",
          "text": [
            "Mr          517\n",
            "Miss        182\n",
            "Mrs         125\n",
            "Master       40\n",
            "Dr            7\n",
            "Rev           6\n",
            "Mlle          2\n",
            "Col           2\n",
            "Major         2\n",
            "Don           1\n",
            "Lady          1\n",
            "Ms            1\n",
            "Countess      1\n",
            "Mme           1\n",
            "Sir           1\n",
            "Jonkheer      1\n",
            "Capt          1\n",
            "Name: Name, dtype: int64\n",
            "Mr        240\n",
            "Miss       78\n",
            "Mrs        72\n",
            "Master     21\n",
            "Col         2\n",
            "Rev         2\n",
            "Dr          1\n",
            "Ms          1\n",
            "Dona        1\n",
            "Name: Name, dtype: int64\n"
          ],
          "name": "stdout"
        },
        {
          "output_type": "execute_result",
          "data": {
            "text/plain": [
              "Mr            240\n",
              "Miss           79\n",
              "Mrs            72\n",
              "Master         21\n",
              "Rare Title      6\n",
              "Name: Title, dtype: int64"
            ]
          },
          "metadata": {
            "tags": []
          },
          "execution_count": 56
        }
      ]
    },
    {
      "cell_type": "markdown",
      "metadata": {
        "id": "ofYPtBLG9Qxr",
        "colab_type": "text"
      },
      "source": [
        "티켓번호를 분석해본다. 빨리 티켓팅한 사람이 생존이 높을수도..?"
      ]
    },
    {
      "cell_type": "code",
      "metadata": {
        "id": "H4ttrQY29Hxm",
        "colab_type": "code",
        "outputId": "42706c49-1f62-46fc-ca2a-b394a7105f21",
        "colab": {
          "base_uri": "https://localhost:8080/",
          "height": 124
        }
      },
      "source": [
        "titanic[\"Ticket\"].tail()"
      ],
      "execution_count": 0,
      "outputs": [
        {
          "output_type": "execute_result",
          "data": {
            "text/plain": [
              "344    229236\n",
              "346     31418\n",
              "347    386525\n",
              "312    250651\n",
              "890    370376\n",
              "Name: Ticket, dtype: object"
            ]
          },
          "metadata": {
            "tags": []
          },
          "execution_count": 57
        }
      ]
    },
    {
      "cell_type": "code",
      "metadata": {
        "id": "pIig_uOJ9Y_h",
        "colab_type": "code",
        "colab": {}
      },
      "source": [
        "titanic[\"TicketNumber\"] = titanic[\"Ticket\"].str.extract('(\\d{2,})', expand=True) # 티켓번호에서 숫자만 추출한다.\n",
        "titanic[\"TicketNumber\"] = titanic[\"TicketNumber\"].apply(pd.to_numeric)\n",
        "\n",
        "\n",
        "titanic_test[\"TicketNumber\"] = titanic_test[\"Ticket\"].str.extract('(\\d{2,})', expand=True)\n",
        "titanic_test[\"TicketNumber\"] = titanic_test[\"TicketNumber\"].apply(pd.to_numeric)"
      ],
      "execution_count": 0,
      "outputs": []
    },
    {
      "cell_type": "code",
      "metadata": {
        "id": "px9DqbAe9Zg8",
        "colab_type": "code",
        "outputId": "fe407e3a-dc73-4382-c514-a2ce6482a232",
        "colab": {
          "base_uri": "https://localhost:8080/",
          "height": 407
        }
      },
      "source": [
        "titanic.head()"
      ],
      "execution_count": 0,
      "outputs": [
        {
          "output_type": "execute_result",
          "data": {
            "text/html": [
              "<div>\n",
              "<style scoped>\n",
              "    .dataframe tbody tr th:only-of-type {\n",
              "        vertical-align: middle;\n",
              "    }\n",
              "\n",
              "    .dataframe tbody tr th {\n",
              "        vertical-align: top;\n",
              "    }\n",
              "\n",
              "    .dataframe thead th {\n",
              "        text-align: right;\n",
              "    }\n",
              "</style>\n",
              "<table border=\"1\" class=\"dataframe\">\n",
              "  <thead>\n",
              "    <tr style=\"text-align: right;\">\n",
              "      <th></th>\n",
              "      <th>PassengerId</th>\n",
              "      <th>Survived</th>\n",
              "      <th>Pclass</th>\n",
              "      <th>Name</th>\n",
              "      <th>Sex</th>\n",
              "      <th>Age</th>\n",
              "      <th>SibSp</th>\n",
              "      <th>Parch</th>\n",
              "      <th>Ticket</th>\n",
              "      <th>Fare</th>\n",
              "      <th>Cabin</th>\n",
              "      <th>Embarked</th>\n",
              "      <th>Deck</th>\n",
              "      <th>FamilySize</th>\n",
              "      <th>FsizeD</th>\n",
              "      <th>NameLength</th>\n",
              "      <th>NlengthD</th>\n",
              "      <th>Title</th>\n",
              "      <th>TicketNumber</th>\n",
              "    </tr>\n",
              "  </thead>\n",
              "  <tbody>\n",
              "    <tr>\n",
              "      <th>445</th>\n",
              "      <td>446</td>\n",
              "      <td>1</td>\n",
              "      <td>1</td>\n",
              "      <td>Dodge, Master. Washington</td>\n",
              "      <td>male</td>\n",
              "      <td>4.0</td>\n",
              "      <td>0</td>\n",
              "      <td>2</td>\n",
              "      <td>33638</td>\n",
              "      <td>81.8583</td>\n",
              "      <td>A34</td>\n",
              "      <td>S</td>\n",
              "      <td>A</td>\n",
              "      <td>3</td>\n",
              "      <td>small</td>\n",
              "      <td>25</td>\n",
              "      <td>okay</td>\n",
              "      <td>Master</td>\n",
              "      <td>33638.0</td>\n",
              "    </tr>\n",
              "    <tr>\n",
              "      <th>209</th>\n",
              "      <td>210</td>\n",
              "      <td>1</td>\n",
              "      <td>1</td>\n",
              "      <td>Blank, Mr. Henry</td>\n",
              "      <td>male</td>\n",
              "      <td>40.0</td>\n",
              "      <td>0</td>\n",
              "      <td>0</td>\n",
              "      <td>112277</td>\n",
              "      <td>31.0000</td>\n",
              "      <td>A31</td>\n",
              "      <td>C</td>\n",
              "      <td>A</td>\n",
              "      <td>1</td>\n",
              "      <td>singleton</td>\n",
              "      <td>16</td>\n",
              "      <td>short</td>\n",
              "      <td>Mr</td>\n",
              "      <td>112277.0</td>\n",
              "    </tr>\n",
              "    <tr>\n",
              "      <th>96</th>\n",
              "      <td>97</td>\n",
              "      <td>0</td>\n",
              "      <td>1</td>\n",
              "      <td>Goldschmidt, Mr. George B</td>\n",
              "      <td>male</td>\n",
              "      <td>71.0</td>\n",
              "      <td>0</td>\n",
              "      <td>0</td>\n",
              "      <td>PC 17754</td>\n",
              "      <td>34.6542</td>\n",
              "      <td>A5</td>\n",
              "      <td>C</td>\n",
              "      <td>A</td>\n",
              "      <td>1</td>\n",
              "      <td>singleton</td>\n",
              "      <td>25</td>\n",
              "      <td>okay</td>\n",
              "      <td>Mr</td>\n",
              "      <td>17754.0</td>\n",
              "    </tr>\n",
              "    <tr>\n",
              "      <th>599</th>\n",
              "      <td>600</td>\n",
              "      <td>1</td>\n",
              "      <td>1</td>\n",
              "      <td>Duff Gordon, Sir. Cosmo Edmund (\"Mr Morgan\")</td>\n",
              "      <td>male</td>\n",
              "      <td>49.0</td>\n",
              "      <td>1</td>\n",
              "      <td>0</td>\n",
              "      <td>PC 17485</td>\n",
              "      <td>56.9292</td>\n",
              "      <td>A20</td>\n",
              "      <td>C</td>\n",
              "      <td>A</td>\n",
              "      <td>2</td>\n",
              "      <td>small</td>\n",
              "      <td>44</td>\n",
              "      <td>good</td>\n",
              "      <td>Rare Title</td>\n",
              "      <td>17485.0</td>\n",
              "    </tr>\n",
              "    <tr>\n",
              "      <th>806</th>\n",
              "      <td>807</td>\n",
              "      <td>0</td>\n",
              "      <td>1</td>\n",
              "      <td>Andrews, Mr. Thomas Jr</td>\n",
              "      <td>male</td>\n",
              "      <td>39.0</td>\n",
              "      <td>0</td>\n",
              "      <td>0</td>\n",
              "      <td>112050</td>\n",
              "      <td>0.0000</td>\n",
              "      <td>A36</td>\n",
              "      <td>S</td>\n",
              "      <td>A</td>\n",
              "      <td>1</td>\n",
              "      <td>singleton</td>\n",
              "      <td>22</td>\n",
              "      <td>okay</td>\n",
              "      <td>Mr</td>\n",
              "      <td>112050.0</td>\n",
              "    </tr>\n",
              "  </tbody>\n",
              "</table>\n",
              "</div>"
            ],
            "text/plain": [
              "     PassengerId  Survived  Pclass  ... NlengthD       Title  TicketNumber\n",
              "445          446         1       1  ...     okay      Master       33638.0\n",
              "209          210         1       1  ...    short          Mr      112277.0\n",
              "96            97         0       1  ...     okay          Mr       17754.0\n",
              "599          600         1       1  ...     good  Rare Title       17485.0\n",
              "806          807         0       1  ...     okay          Mr      112050.0\n",
              "\n",
              "[5 rows x 19 columns]"
            ]
          },
          "metadata": {
            "tags": []
          },
          "execution_count": 59
        }
      ]
    },
    {
      "cell_type": "code",
      "metadata": {
        "id": "QV_aid4b9dww",
        "colab_type": "code",
        "outputId": "122b73ed-3d82-46a6-f5d5-be74a7c56c44",
        "colab": {
          "base_uri": "https://localhost:8080/",
          "height": 523
        }
      },
      "source": [
        "titanic[titanic[\"TicketNumber\"].isnull()]"
      ],
      "execution_count": 0,
      "outputs": [
        {
          "output_type": "execute_result",
          "data": {
            "text/html": [
              "<div>\n",
              "<style scoped>\n",
              "    .dataframe tbody tr th:only-of-type {\n",
              "        vertical-align: middle;\n",
              "    }\n",
              "\n",
              "    .dataframe tbody tr th {\n",
              "        vertical-align: top;\n",
              "    }\n",
              "\n",
              "    .dataframe thead th {\n",
              "        text-align: right;\n",
              "    }\n",
              "</style>\n",
              "<table border=\"1\" class=\"dataframe\">\n",
              "  <thead>\n",
              "    <tr style=\"text-align: right;\">\n",
              "      <th></th>\n",
              "      <th>PassengerId</th>\n",
              "      <th>Survived</th>\n",
              "      <th>Pclass</th>\n",
              "      <th>Name</th>\n",
              "      <th>Sex</th>\n",
              "      <th>Age</th>\n",
              "      <th>SibSp</th>\n",
              "      <th>Parch</th>\n",
              "      <th>Ticket</th>\n",
              "      <th>Fare</th>\n",
              "      <th>Cabin</th>\n",
              "      <th>Embarked</th>\n",
              "      <th>Deck</th>\n",
              "      <th>FamilySize</th>\n",
              "      <th>FsizeD</th>\n",
              "      <th>NameLength</th>\n",
              "      <th>NlengthD</th>\n",
              "      <th>Title</th>\n",
              "      <th>TicketNumber</th>\n",
              "    </tr>\n",
              "  </thead>\n",
              "  <tbody>\n",
              "    <tr>\n",
              "      <th>772</th>\n",
              "      <td>773</td>\n",
              "      <td>0</td>\n",
              "      <td>2</td>\n",
              "      <td>Mack, Mrs. (Mary)</td>\n",
              "      <td>female</td>\n",
              "      <td>57.0</td>\n",
              "      <td>0</td>\n",
              "      <td>0</td>\n",
              "      <td>S.O./P.P. 3</td>\n",
              "      <td>10.5</td>\n",
              "      <td>E77</td>\n",
              "      <td>S</td>\n",
              "      <td>E</td>\n",
              "      <td>1</td>\n",
              "      <td>singleton</td>\n",
              "      <td>17</td>\n",
              "      <td>short</td>\n",
              "      <td>Mrs</td>\n",
              "      <td>NaN</td>\n",
              "    </tr>\n",
              "    <tr>\n",
              "      <th>597</th>\n",
              "      <td>598</td>\n",
              "      <td>0</td>\n",
              "      <td>3</td>\n",
              "      <td>Johnson, Mr. Alfred</td>\n",
              "      <td>male</td>\n",
              "      <td>49.0</td>\n",
              "      <td>0</td>\n",
              "      <td>0</td>\n",
              "      <td>LINE</td>\n",
              "      <td>0.0</td>\n",
              "      <td>NaN</td>\n",
              "      <td>S</td>\n",
              "      <td>Z</td>\n",
              "      <td>1</td>\n",
              "      <td>singleton</td>\n",
              "      <td>19</td>\n",
              "      <td>short</td>\n",
              "      <td>Mr</td>\n",
              "      <td>NaN</td>\n",
              "    </tr>\n",
              "    <tr>\n",
              "      <th>841</th>\n",
              "      <td>842</td>\n",
              "      <td>0</td>\n",
              "      <td>2</td>\n",
              "      <td>Mudd, Mr. Thomas Charles</td>\n",
              "      <td>male</td>\n",
              "      <td>16.0</td>\n",
              "      <td>0</td>\n",
              "      <td>0</td>\n",
              "      <td>S.O./P.P. 3</td>\n",
              "      <td>10.5</td>\n",
              "      <td>NaN</td>\n",
              "      <td>S</td>\n",
              "      <td>Z</td>\n",
              "      <td>1</td>\n",
              "      <td>singleton</td>\n",
              "      <td>24</td>\n",
              "      <td>okay</td>\n",
              "      <td>Mr</td>\n",
              "      <td>NaN</td>\n",
              "    </tr>\n",
              "    <tr>\n",
              "      <th>179</th>\n",
              "      <td>180</td>\n",
              "      <td>0</td>\n",
              "      <td>3</td>\n",
              "      <td>Leonard, Mr. Lionel</td>\n",
              "      <td>male</td>\n",
              "      <td>36.0</td>\n",
              "      <td>0</td>\n",
              "      <td>0</td>\n",
              "      <td>LINE</td>\n",
              "      <td>0.0</td>\n",
              "      <td>NaN</td>\n",
              "      <td>S</td>\n",
              "      <td>Z</td>\n",
              "      <td>1</td>\n",
              "      <td>singleton</td>\n",
              "      <td>19</td>\n",
              "      <td>short</td>\n",
              "      <td>Mr</td>\n",
              "      <td>NaN</td>\n",
              "    </tr>\n",
              "    <tr>\n",
              "      <th>302</th>\n",
              "      <td>303</td>\n",
              "      <td>0</td>\n",
              "      <td>3</td>\n",
              "      <td>Johnson, Mr. William Cahoone Jr</td>\n",
              "      <td>male</td>\n",
              "      <td>19.0</td>\n",
              "      <td>0</td>\n",
              "      <td>0</td>\n",
              "      <td>LINE</td>\n",
              "      <td>0.0</td>\n",
              "      <td>NaN</td>\n",
              "      <td>S</td>\n",
              "      <td>Z</td>\n",
              "      <td>1</td>\n",
              "      <td>singleton</td>\n",
              "      <td>31</td>\n",
              "      <td>okay</td>\n",
              "      <td>Mr</td>\n",
              "      <td>NaN</td>\n",
              "    </tr>\n",
              "    <tr>\n",
              "      <th>271</th>\n",
              "      <td>272</td>\n",
              "      <td>1</td>\n",
              "      <td>3</td>\n",
              "      <td>Tornquist, Mr. William Henry</td>\n",
              "      <td>male</td>\n",
              "      <td>25.0</td>\n",
              "      <td>0</td>\n",
              "      <td>0</td>\n",
              "      <td>LINE</td>\n",
              "      <td>0.0</td>\n",
              "      <td>NaN</td>\n",
              "      <td>S</td>\n",
              "      <td>Z</td>\n",
              "      <td>1</td>\n",
              "      <td>singleton</td>\n",
              "      <td>28</td>\n",
              "      <td>okay</td>\n",
              "      <td>Mr</td>\n",
              "      <td>NaN</td>\n",
              "    </tr>\n",
              "  </tbody>\n",
              "</table>\n",
              "</div>"
            ],
            "text/plain": [
              "     PassengerId  Survived  Pclass  ... NlengthD Title  TicketNumber\n",
              "772          773         0       2  ...    short   Mrs           NaN\n",
              "597          598         0       3  ...    short    Mr           NaN\n",
              "841          842         0       2  ...     okay    Mr           NaN\n",
              "179          180         0       3  ...    short    Mr           NaN\n",
              "302          303         0       3  ...     okay    Mr           NaN\n",
              "271          272         1       3  ...     okay    Mr           NaN\n",
              "\n",
              "[6 rows x 19 columns]"
            ]
          },
          "metadata": {
            "tags": []
          },
          "execution_count": 60
        }
      ]
    },
    {
      "cell_type": "code",
      "metadata": {
        "id": "xEv5-Br79tfE",
        "colab_type": "code",
        "colab": {}
      },
      "source": [
        "# 별 아이디어가 없으면 median 으로 imputation 한다 \n",
        "titanic.TicketNumber.fillna(titanic[\"TicketNumber\"].median(), inplace=True)\n",
        "titanic_test.TicketNumber.fillna(titanic_test[\"TicketNumber\"].median(), inplace=True)"
      ],
      "execution_count": 0,
      "outputs": []
    },
    {
      "cell_type": "markdown",
      "metadata": {
        "id": "BWHLqwIm9-1b",
        "colab_type": "text"
      },
      "source": [
        "### 범주형 데이터 encoding"
      ]
    },
    {
      "cell_type": "code",
      "metadata": {
        "id": "dWwedsgh9xGv",
        "colab_type": "code",
        "outputId": "a38e1178-d0c2-4269-c634-3f50ae722186",
        "colab": {
          "base_uri": "https://localhost:8080/",
          "height": 407
        }
      },
      "source": [
        "from sklearn.preprocessing import LabelEncoder,OneHotEncoder\n",
        "\n",
        "labelEnc=LabelEncoder()\n",
        "\n",
        "cat_vars=['Embarked','Sex',\"Title\",\"FsizeD\",\"NlengthD\",'Deck']\n",
        "for col in cat_vars:\n",
        "    titanic[col]=labelEnc.fit_transform(titanic[col])\n",
        "    titanic_test[col]=labelEnc.fit_transform(titanic_test[col])\n",
        "\n",
        "titanic.head()"
      ],
      "execution_count": 0,
      "outputs": [
        {
          "output_type": "execute_result",
          "data": {
            "text/html": [
              "<div>\n",
              "<style scoped>\n",
              "    .dataframe tbody tr th:only-of-type {\n",
              "        vertical-align: middle;\n",
              "    }\n",
              "\n",
              "    .dataframe tbody tr th {\n",
              "        vertical-align: top;\n",
              "    }\n",
              "\n",
              "    .dataframe thead th {\n",
              "        text-align: right;\n",
              "    }\n",
              "</style>\n",
              "<table border=\"1\" class=\"dataframe\">\n",
              "  <thead>\n",
              "    <tr style=\"text-align: right;\">\n",
              "      <th></th>\n",
              "      <th>PassengerId</th>\n",
              "      <th>Survived</th>\n",
              "      <th>Pclass</th>\n",
              "      <th>Name</th>\n",
              "      <th>Sex</th>\n",
              "      <th>Age</th>\n",
              "      <th>SibSp</th>\n",
              "      <th>Parch</th>\n",
              "      <th>Ticket</th>\n",
              "      <th>Fare</th>\n",
              "      <th>Cabin</th>\n",
              "      <th>Embarked</th>\n",
              "      <th>Deck</th>\n",
              "      <th>FamilySize</th>\n",
              "      <th>FsizeD</th>\n",
              "      <th>NameLength</th>\n",
              "      <th>NlengthD</th>\n",
              "      <th>Title</th>\n",
              "      <th>TicketNumber</th>\n",
              "    </tr>\n",
              "  </thead>\n",
              "  <tbody>\n",
              "    <tr>\n",
              "      <th>445</th>\n",
              "      <td>446</td>\n",
              "      <td>1</td>\n",
              "      <td>1</td>\n",
              "      <td>Dodge, Master. Washington</td>\n",
              "      <td>1</td>\n",
              "      <td>4.0</td>\n",
              "      <td>0</td>\n",
              "      <td>2</td>\n",
              "      <td>33638</td>\n",
              "      <td>81.8583</td>\n",
              "      <td>A34</td>\n",
              "      <td>2</td>\n",
              "      <td>0</td>\n",
              "      <td>3</td>\n",
              "      <td>2</td>\n",
              "      <td>25</td>\n",
              "      <td>2</td>\n",
              "      <td>0</td>\n",
              "      <td>33638.0</td>\n",
              "    </tr>\n",
              "    <tr>\n",
              "      <th>209</th>\n",
              "      <td>210</td>\n",
              "      <td>1</td>\n",
              "      <td>1</td>\n",
              "      <td>Blank, Mr. Henry</td>\n",
              "      <td>1</td>\n",
              "      <td>40.0</td>\n",
              "      <td>0</td>\n",
              "      <td>0</td>\n",
              "      <td>112277</td>\n",
              "      <td>31.0000</td>\n",
              "      <td>A31</td>\n",
              "      <td>0</td>\n",
              "      <td>0</td>\n",
              "      <td>1</td>\n",
              "      <td>1</td>\n",
              "      <td>16</td>\n",
              "      <td>3</td>\n",
              "      <td>2</td>\n",
              "      <td>112277.0</td>\n",
              "    </tr>\n",
              "    <tr>\n",
              "      <th>96</th>\n",
              "      <td>97</td>\n",
              "      <td>0</td>\n",
              "      <td>1</td>\n",
              "      <td>Goldschmidt, Mr. George B</td>\n",
              "      <td>1</td>\n",
              "      <td>71.0</td>\n",
              "      <td>0</td>\n",
              "      <td>0</td>\n",
              "      <td>PC 17754</td>\n",
              "      <td>34.6542</td>\n",
              "      <td>A5</td>\n",
              "      <td>0</td>\n",
              "      <td>0</td>\n",
              "      <td>1</td>\n",
              "      <td>1</td>\n",
              "      <td>25</td>\n",
              "      <td>2</td>\n",
              "      <td>2</td>\n",
              "      <td>17754.0</td>\n",
              "    </tr>\n",
              "    <tr>\n",
              "      <th>599</th>\n",
              "      <td>600</td>\n",
              "      <td>1</td>\n",
              "      <td>1</td>\n",
              "      <td>Duff Gordon, Sir. Cosmo Edmund (\"Mr Morgan\")</td>\n",
              "      <td>1</td>\n",
              "      <td>49.0</td>\n",
              "      <td>1</td>\n",
              "      <td>0</td>\n",
              "      <td>PC 17485</td>\n",
              "      <td>56.9292</td>\n",
              "      <td>A20</td>\n",
              "      <td>0</td>\n",
              "      <td>0</td>\n",
              "      <td>2</td>\n",
              "      <td>2</td>\n",
              "      <td>44</td>\n",
              "      <td>0</td>\n",
              "      <td>4</td>\n",
              "      <td>17485.0</td>\n",
              "    </tr>\n",
              "    <tr>\n",
              "      <th>806</th>\n",
              "      <td>807</td>\n",
              "      <td>0</td>\n",
              "      <td>1</td>\n",
              "      <td>Andrews, Mr. Thomas Jr</td>\n",
              "      <td>1</td>\n",
              "      <td>39.0</td>\n",
              "      <td>0</td>\n",
              "      <td>0</td>\n",
              "      <td>112050</td>\n",
              "      <td>0.0000</td>\n",
              "      <td>A36</td>\n",
              "      <td>2</td>\n",
              "      <td>0</td>\n",
              "      <td>1</td>\n",
              "      <td>1</td>\n",
              "      <td>22</td>\n",
              "      <td>2</td>\n",
              "      <td>2</td>\n",
              "      <td>112050.0</td>\n",
              "    </tr>\n",
              "  </tbody>\n",
              "</table>\n",
              "</div>"
            ],
            "text/plain": [
              "     PassengerId  Survived  Pclass  ... NlengthD  Title  TicketNumber\n",
              "445          446         1       1  ...        2      0       33638.0\n",
              "209          210         1       1  ...        3      2      112277.0\n",
              "96            97         0       1  ...        2      2       17754.0\n",
              "599          600         1       1  ...        0      4       17485.0\n",
              "806          807         0       1  ...        2      2      112050.0\n",
              "\n",
              "[5 rows x 19 columns]"
            ]
          },
          "metadata": {
            "tags": []
          },
          "execution_count": 63
        }
      ]
    },
    {
      "cell_type": "markdown",
      "metadata": {
        "id": "icn9Z-Cn-JQs",
        "colab_type": "text"
      },
      "source": [
        "### 모델링을 활용한 imputation"
      ]
    },
    {
      "cell_type": "code",
      "metadata": {
        "id": "w-8jQaIg9982",
        "colab_type": "code",
        "outputId": "35057814-8204-423e-fe25-d3c14076bea0",
        "colab": {
          "base_uri": "https://localhost:8080/",
          "height": 504
        }
      },
      "source": [
        "with sns.plotting_context(\"notebook\",font_scale=1.5):\n",
        "    sns.set_style(\"whitegrid\")\n",
        "    sns.distplot(titanic[\"Age\"].dropna(),\n",
        "                 bins=80,\n",
        "                 kde=False,\n",
        "                 color=\"red\")\n",
        "    sns.plt.title(\"Age Distribution\")\n",
        "    plt.ylabel(\"Count\");"
      ],
      "execution_count": 0,
      "outputs": [
        {
          "output_type": "error",
          "ename": "AttributeError",
          "evalue": "ignored",
          "traceback": [
            "\u001b[0;31m---------------------------------------------------------------------------\u001b[0m",
            "\u001b[0;31mAttributeError\u001b[0m                            Traceback (most recent call last)",
            "\u001b[0;32m<ipython-input-64-dd862ce8a76c>\u001b[0m in \u001b[0;36m<module>\u001b[0;34m()\u001b[0m\n\u001b[1;32m      5\u001b[0m                  \u001b[0mkde\u001b[0m\u001b[0;34m=\u001b[0m\u001b[0;32mFalse\u001b[0m\u001b[0;34m,\u001b[0m\u001b[0;34m\u001b[0m\u001b[0;34m\u001b[0m\u001b[0m\n\u001b[1;32m      6\u001b[0m                  color=\"red\")\n\u001b[0;32m----> 7\u001b[0;31m     \u001b[0msns\u001b[0m\u001b[0;34m.\u001b[0m\u001b[0mplt\u001b[0m\u001b[0;34m.\u001b[0m\u001b[0mtitle\u001b[0m\u001b[0;34m(\u001b[0m\u001b[0;34m\"Age Distribution\"\u001b[0m\u001b[0;34m)\u001b[0m\u001b[0;34m\u001b[0m\u001b[0;34m\u001b[0m\u001b[0m\n\u001b[0m\u001b[1;32m      8\u001b[0m     \u001b[0mplt\u001b[0m\u001b[0;34m.\u001b[0m\u001b[0mylabel\u001b[0m\u001b[0;34m(\u001b[0m\u001b[0;34m\"Count\"\u001b[0m\u001b[0;34m)\u001b[0m\u001b[0;34m;\u001b[0m\u001b[0;34m\u001b[0m\u001b[0;34m\u001b[0m\u001b[0m\n",
            "\u001b[0;31mAttributeError\u001b[0m: module 'seaborn' has no attribute 'plt'"
          ]
        },
        {
          "output_type": "display_data",
          "data": {
            "image/png": "[encoded data removed]",
            "text/plain": [
              "<Figure size 432x288 with 1 Axes>"
            ]
          },
          "metadata": {
            "tags": []
          }
        }
      ]
    },
    {
      "cell_type": "code",
      "metadata": {
        "id": "Sgyyzg52-Ocu",
        "colab_type": "code",
        "colab": {}
      },
      "source": [
        "from sklearn.ensemble import RandomForestRegressor\n",
        "#predicting missing values in age using Random Forest\n",
        "def fill_missing_age(df):\n",
        "    \n",
        "    #Feature set\n",
        "    age_df = df[['Age','Embarked','Fare', 'Parch', 'SibSp',\n",
        "                 'TicketNumber', 'Title','Pclass','FamilySize',\n",
        "                 'FsizeD','NameLength',\"NlengthD\",'Deck']]\n",
        "    # Split sets into train and test\n",
        "    train  = age_df.loc[ (df.Age.notnull()) ]# known Age values\n",
        "    test = age_df.loc[ (df.Age.isnull()) ]# null Ages\n",
        "    \n",
        "    # All age values are stored in a target array\n",
        "    y = train.values[:, 0]\n",
        "    \n",
        "    # All the other values are stored in the feature array\n",
        "    X = train.values[:, 1::]\n",
        "    \n",
        "    # Create and fit a model\n",
        "    rtr = RandomForestRegressor(n_estimators=2000, n_jobs=-1)\n",
        "    rtr.fit(X, y)\n",
        "    \n",
        "    # Use the fitted model to predict the missing values\n",
        "    predictedAges = rtr.predict(test.values[:, 1::])\n",
        "    \n",
        "    # Assign those predictions to the full data set\n",
        "    df.loc[ (df.Age.isnull()), 'Age' ] = predictedAges \n",
        "    \n",
        "    return df"
      ],
      "execution_count": 0,
      "outputs": []
    },
    {
      "cell_type": "code",
      "metadata": {
        "id": "bMgmKA8H-Rin",
        "colab_type": "code",
        "colab": {}
      },
      "source": [
        "titanic=fill_missing_age(titanic)\n",
        "titanic_test=fill_missing_age(titanic_test)"
      ],
      "execution_count": 0,
      "outputs": []
    },
    {
      "cell_type": "code",
      "metadata": {
        "id": "-T9W-1Mr-Tbh",
        "colab_type": "code",
        "outputId": "4ed668ba-3170-4547-8dae-3916094330dd",
        "colab": {
          "base_uri": "https://localhost:8080/",
          "height": 298
        }
      },
      "source": [
        "with sns.plotting_context(\"notebook\",font_scale=1.5):\n",
        "    sns.set_style(\"whitegrid\")\n",
        "    sns.distplot(titanic[\"Age\"].dropna(),\n",
        "                 bins=80,\n",
        "                 kde=False,\n",
        "                 color=\"tomato\")\n",
        "    # sns.plt.title(\"Age Distribution\")\n",
        "    plt.ylabel(\"Count\")\n",
        "    plt.xlim((15,100));"
      ],
      "execution_count": 0,
      "outputs": [
        {
          "output_type": "display_data",
          "data": {
            "image/png": "[encoded data removed]",
            "text/plain": [
              "<Figure size 432x288 with 1 Axes>"
            ]
          },
          "metadata": {
            "tags": []
          }
        }
      ]
    },
    {
      "cell_type": "markdown",
      "metadata": {
        "id": "ZkP4w9QZDiwJ",
        "colab_type": "text"
      },
      "source": [
        "### 모델링"
      ]
    },
    {
      "cell_type": "code",
      "metadata": {
        "id": "e8UlIPBcDqQM",
        "colab_type": "code",
        "outputId": "4f1413e6-6999-4cf7-e7b9-446234437f47",
        "colab": {
          "base_uri": "https://localhost:8080/",
          "height": 106
        }
      },
      "source": [
        "!pip install sklearn"
      ],
      "execution_count": 0,
      "outputs": [
        {
          "output_type": "stream",
          "text": [
            "Requirement already satisfied: sklearn in /usr/local/lib/python3.6/dist-packages (0.0)\n",
            "Requirement already satisfied: scikit-learn in /usr/local/lib/python3.6/dist-packages (from sklearn) (0.22.1)\n",
            "Requirement already satisfied: numpy>=1.11.0 in /usr/local/lib/python3.6/dist-packages (from scikit-learn->sklearn) (1.17.5)\n",
            "Requirement already satisfied: joblib>=0.11 in /usr/local/lib/python3.6/dist-packages (from scikit-learn->sklearn) (0.14.1)\n",
            "Requirement already satisfied: scipy>=0.17.0 in /usr/local/lib/python3.6/dist-packages (from scikit-learn->sklearn) (1.4.1)\n"
          ],
          "name": "stdout"
        }
      ]
    },
    {
      "cell_type": "code",
      "metadata": {
        "id": "RSYSQNuY-Vsk",
        "colab_type": "code",
        "outputId": "072a3d57-6593-410c-b1d0-381f05ec5ac3",
        "colab": {
          "base_uri": "https://localhost:8080/",
          "height": 72
        }
      },
      "source": [
        "# Import the linear regression class\n",
        "from sklearn.linear_model import LinearRegression\n",
        "# Sklearn also has a helper that makes it easy to do cross validation\n",
        "from sklearn.model_selection import KFold\n",
        "\n",
        "# The columns we'll use to predict the target\n",
        "predictors = [\"Pclass\", \"Sex\", \"Age\",\"SibSp\", \"Parch\", \"Fare\",\n",
        "              \"Embarked\",\"NlengthD\", \"FsizeD\", \"Title\",\"Deck\"]\n",
        "target=\"Survived\"\n",
        "# Initialize our algorithm class\n",
        "alg = LinearRegression()\n",
        "\n",
        "# Generate cross validation folds for the titanic dataset.  It return the row indices corresponding to train and test.\n",
        "# We set random_state to ensure we get the same splits every time we run this.\n",
        "kf = KFold(n_splits=5,random_state=0,shuffle=False)\n",
        "\n",
        "predictions = []"
      ],
      "execution_count": 0,
      "outputs": [
        {
          "output_type": "stream",
          "text": [
            "/usr/local/lib/python3.6/dist-packages/sklearn/model_selection/_split.py:296: FutureWarning: Setting a random_state has no effect since shuffle is False. This will raise an error in 0.24. You should leave random_state to its default (None), or set shuffle=True.\n",
            "  FutureWarning\n"
          ],
          "name": "stderr"
        }
      ]
    },
    {
      "cell_type": "code",
      "metadata": {
        "id": "QsH0a2d6Dm_y",
        "colab_type": "code",
        "colab": {}
      },
      "source": [
        "for train, test in kf.split(titanic):\n",
        "    # The predictors we're using the train the algorithm.  Note how we only take the rows in the train folds.\n",
        "    train_predictors = (titanic[predictors].iloc[train,:])\n",
        "    # The target we're using to train the algorithm.\n",
        "    train_target = titanic[target].iloc[train]\n",
        "    # Training the algorithm using the predictors and target.\n",
        "    alg.fit(train_predictors, train_target)\n",
        "    # We can now make predictions on the test fold\n",
        "    test_predictions = alg.predict(titanic[predictors].iloc[test,:])\n",
        "    predictions.append(test_predictions)"
      ],
      "execution_count": 0,
      "outputs": []
    },
    {
      "cell_type": "code",
      "metadata": {
        "id": "Sv9KqsMFEw-4",
        "colab_type": "code",
        "outputId": "751deaab-0138-444f-9cfd-461ecfd03dd9",
        "colab": {
          "base_uri": "https://localhost:8080/",
          "height": 35
        }
      },
      "source": [
        "predictions = np.concatenate(predictions, axis=0)\n",
        "# Map predictions to outcomes (only possible outcomes are 1 and 0)\n",
        "predictions[predictions > .5] = 1\n",
        "predictions[predictions <=.5] = 0\n",
        "\n",
        "\n",
        "accuracy=sum(titanic[\"Survived\"]==predictions)/len(titanic[\"Survived\"])\n",
        "accuracy"
      ],
      "execution_count": 0,
      "outputs": [
        {
          "output_type": "execute_result",
          "data": {
            "text/plain": [
              "0.7991021324354658"
            ]
          },
          "metadata": {
            "tags": []
          },
          "execution_count": 102
        }
      ]
    },
    {
      "cell_type": "code",
      "metadata": {
        "id": "F_NXs1RsFy0U",
        "colab_type": "code",
        "outputId": "3da612b2-fda3-43e3-cc70-76723e32ce00",
        "colab": {
          "base_uri": "https://localhost:8080/",
          "height": 1000
        }
      },
      "source": [
        "# from sklearn.model_selection import cross_validate\n",
        "from sklearn.linear_model import LogisticRegression\n",
        "from sklearn.model_selection import cross_val_score\n",
        "from sklearn.model_selection import ShuffleSplit\n",
        "\n",
        "predictors = [\"Pclass\", \"Sex\", \"Fare\", \"Embarked\",\"Deck\",\"Age\",\n",
        "              \"FsizeD\", \"NlengthD\",\"Title\",\"Parch\"]\n",
        "\n",
        "# Initialize our algorithm\n",
        "lr = LogisticRegression(random_state=1)\n",
        "# Compute the accuracy score for all the cross validation folds.\n",
        "cv = ShuffleSplit(n_splits=10, test_size=0.3, random_state=50)\n",
        "\n",
        "scores = cross_val_score(lr, titanic[predictors], titanic[\"Survived\"],scoring='f1', cv=cv)\n",
        "# Take the mean of the scores (because we have one for each fold)\n",
        "print(scores.mean())"
      ],
      "execution_count": 0,
      "outputs": [
        {
          "output_type": "stream",
          "text": [
            "/usr/local/lib/python3.6/dist-packages/sklearn/linear_model/_logistic.py:940: ConvergenceWarning: lbfgs failed to converge (status=1):\n",
            "STOP: TOTAL NO. of ITERATIONS REACHED LIMIT.\n",
            "\n",
            "Increase the number of iterations (max_iter) or scale the data as shown in:\n",
            "    https://scikit-learn.org/stable/modules/preprocessing.html\n",
            "Please also refer to the documentation for alternative solver options:\n",
            "    https://scikit-learn.org/stable/modules/linear_model.html#logistic-regression\n",
            "  extra_warning_msg=_LOGISTIC_SOLVER_CONVERGENCE_MSG)\n",
            "/usr/local/lib/python3.6/dist-packages/sklearn/linear_model/_logistic.py:940: ConvergenceWarning: lbfgs failed to converge (status=1):\n",
            "STOP: TOTAL NO. of ITERATIONS REACHED LIMIT.\n",
            "\n",
            "Increase the number of iterations (max_iter) or scale the data as shown in:\n",
            "    https://scikit-learn.org/stable/modules/preprocessing.html\n",
            "Please also refer to the documentation for alternative solver options:\n",
            "    https://scikit-learn.org/stable/modules/linear_model.html#logistic-regression\n",
            "  extra_warning_msg=_LOGISTIC_SOLVER_CONVERGENCE_MSG)\n",
            "/usr/local/lib/python3.6/dist-packages/sklearn/linear_model/_logistic.py:940: ConvergenceWarning: lbfgs failed to converge (status=1):\n",
            "STOP: TOTAL NO. of ITERATIONS REACHED LIMIT.\n",
            "\n",
            "Increase the number of iterations (max_iter) or scale the data as shown in:\n",
            "    https://scikit-learn.org/stable/modules/preprocessing.html\n",
            "Please also refer to the documentation for alternative solver options:\n",
            "    https://scikit-learn.org/stable/modules/linear_model.html#logistic-regression\n",
            "  extra_warning_msg=_LOGISTIC_SOLVER_CONVERGENCE_MSG)\n",
            "/usr/local/lib/python3.6/dist-packages/sklearn/linear_model/_logistic.py:940: ConvergenceWarning: lbfgs failed to converge (status=1):\n",
            "STOP: TOTAL NO. of ITERATIONS REACHED LIMIT.\n",
            "\n",
            "Increase the number of iterations (max_iter) or scale the data as shown in:\n",
            "    https://scikit-learn.org/stable/modules/preprocessing.html\n",
            "Please also refer to the documentation for alternative solver options:\n",
            "    https://scikit-learn.org/stable/modules/linear_model.html#logistic-regression\n",
            "  extra_warning_msg=_LOGISTIC_SOLVER_CONVERGENCE_MSG)\n",
            "/usr/local/lib/python3.6/dist-packages/sklearn/linear_model/_logistic.py:940: ConvergenceWarning: lbfgs failed to converge (status=1):\n",
            "STOP: TOTAL NO. of ITERATIONS REACHED LIMIT.\n",
            "\n",
            "Increase the number of iterations (max_iter) or scale the data as shown in:\n",
            "    https://scikit-learn.org/stable/modules/preprocessing.html\n",
            "Please also refer to the documentation for alternative solver options:\n",
            "    https://scikit-learn.org/stable/modules/linear_model.html#logistic-regression\n",
            "  extra_warning_msg=_LOGISTIC_SOLVER_CONVERGENCE_MSG)\n",
            "/usr/local/lib/python3.6/dist-packages/sklearn/linear_model/_logistic.py:940: ConvergenceWarning: lbfgs failed to converge (status=1):\n",
            "STOP: TOTAL NO. of ITERATIONS REACHED LIMIT.\n",
            "\n",
            "Increase the number of iterations (max_iter) or scale the data as shown in:\n",
            "    https://scikit-learn.org/stable/modules/preprocessing.html\n",
            "Please also refer to the documentation for alternative solver options:\n",
            "    https://scikit-learn.org/stable/modules/linear_model.html#logistic-regression\n",
            "  extra_warning_msg=_LOGISTIC_SOLVER_CONVERGENCE_MSG)\n",
            "/usr/local/lib/python3.6/dist-packages/sklearn/linear_model/_logistic.py:940: ConvergenceWarning: lbfgs failed to converge (status=1):\n",
            "STOP: TOTAL NO. of ITERATIONS REACHED LIMIT.\n",
            "\n",
            "Increase the number of iterations (max_iter) or scale the data as shown in:\n",
            "    https://scikit-learn.org/stable/modules/preprocessing.html\n",
            "Please also refer to the documentation for alternative solver options:\n",
            "    https://scikit-learn.org/stable/modules/linear_model.html#logistic-regression\n",
            "  extra_warning_msg=_LOGISTIC_SOLVER_CONVERGENCE_MSG)\n"
          ],
          "name": "stderr"
        },
        {
          "output_type": "stream",
          "text": [
            "0.7490431890325538\n"
          ],
          "name": "stdout"
        },
        {
          "output_type": "stream",
          "text": [
            "/usr/local/lib/python3.6/dist-packages/sklearn/linear_model/_logistic.py:940: ConvergenceWarning: lbfgs failed to converge (status=1):\n",
            "STOP: TOTAL NO. of ITERATIONS REACHED LIMIT.\n",
            "\n",
            "Increase the number of iterations (max_iter) or scale the data as shown in:\n",
            "    https://scikit-learn.org/stable/modules/preprocessing.html\n",
            "Please also refer to the documentation for alternative solver options:\n",
            "    https://scikit-learn.org/stable/modules/linear_model.html#logistic-regression\n",
            "  extra_warning_msg=_LOGISTIC_SOLVER_CONVERGENCE_MSG)\n",
            "/usr/local/lib/python3.6/dist-packages/sklearn/linear_model/_logistic.py:940: ConvergenceWarning: lbfgs failed to converge (status=1):\n",
            "STOP: TOTAL NO. of ITERATIONS REACHED LIMIT.\n",
            "\n",
            "Increase the number of iterations (max_iter) or scale the data as shown in:\n",
            "    https://scikit-learn.org/stable/modules/preprocessing.html\n",
            "Please also refer to the documentation for alternative solver options:\n",
            "    https://scikit-learn.org/stable/modules/linear_model.html#logistic-regression\n",
            "  extra_warning_msg=_LOGISTIC_SOLVER_CONVERGENCE_MSG)\n",
            "/usr/local/lib/python3.6/dist-packages/sklearn/linear_model/_logistic.py:940: ConvergenceWarning: lbfgs failed to converge (status=1):\n",
            "STOP: TOTAL NO. of ITERATIONS REACHED LIMIT.\n",
            "\n",
            "Increase the number of iterations (max_iter) or scale the data as shown in:\n",
            "    https://scikit-learn.org/stable/modules/preprocessing.html\n",
            "Please also refer to the documentation for alternative solver options:\n",
            "    https://scikit-learn.org/stable/modules/linear_model.html#logistic-regression\n",
            "  extra_warning_msg=_LOGISTIC_SOLVER_CONVERGENCE_MSG)\n"
          ],
          "name": "stderr"
        }
      ]
    },
    {
      "cell_type": "code",
      "metadata": {
        "id": "1j2JJD48HUhQ",
        "colab_type": "code",
        "outputId": "0eb46629-871f-4ddf-d5f1-227594598d46",
        "colab": {
          "base_uri": "https://localhost:8080/",
          "height": 90
        }
      },
      "source": [
        "from sklearn.model_selection import cross_validate\n",
        "from sklearn.ensemble import RandomForestClassifier\n",
        "# from sklearn.cross_validation import KFold\n",
        "from sklearn.model_selection import cross_val_predict\n",
        "\n",
        "import numpy as np\n",
        "predictors = [\"Pclass\", \"Sex\", \"Age\",\n",
        "              \"Fare\",\"NlengthD\",\"NameLength\", \"FsizeD\", \"Title\",\"Deck\"]\n",
        "\n",
        "# Initialize our algorithm with the default paramters\n",
        "# n_estimators is the number of trees we want to make\n",
        "# min_samples_split is the minimum number of rows we need to make a split\n",
        "# min_samples_leaf is the minimum number of samples we can have at the place where a tree branch ends (the bottom points of the tree)\n",
        "rf = RandomForestClassifier(random_state=1, n_estimators=10, min_samples_split=2, \n",
        "                            min_samples_leaf=1)\n",
        "kf = KFold(n_splits=5,random_state=0,shuffle=False)\n",
        "cv = ShuffleSplit(n_splits=10, test_size=0.3, random_state=50)\n",
        "\n",
        "predictions = cross_val_predict(rf, titanic[predictors],titanic[\"Survived\"],cv=kf)\n",
        "predictions = pd.Series(predictions)\n",
        "scores = cross_val_score(rf, titanic[predictors], titanic[\"Survived\"],\n",
        "                                          scoring='f1', cv=kf)\n",
        "# Take the mean of the scores (because we have one for each fold)\n",
        "print(scores.mean())"
      ],
      "execution_count": 0,
      "outputs": [
        {
          "output_type": "stream",
          "text": [
            "/usr/local/lib/python3.6/dist-packages/sklearn/model_selection/_split.py:296: FutureWarning: Setting a random_state has no effect since shuffle is False. This will raise an error in 0.24. You should leave random_state to its default (None), or set shuffle=True.\n",
            "  FutureWarning\n"
          ],
          "name": "stderr"
        },
        {
          "output_type": "stream",
          "text": [
            "0.7409372586695804\n"
          ],
          "name": "stdout"
        }
      ]
    },
    {
      "cell_type": "code",
      "metadata": {
        "id": "L76mmTciHafg",
        "colab_type": "code",
        "outputId": "c83fe883-54e9-4c06-b651-5be3d966ffef",
        "colab": {
          "base_uri": "https://localhost:8080/",
          "height": 90
        }
      },
      "source": [
        "predictors = [\"Pclass\", \"Sex\", \"Age\",\n",
        "              \"Fare\",\"NlengthD\",\"NameLength\", \"FsizeD\", \"Title\",\"Deck\",\"TicketNumber\"]\n",
        "rf = RandomForestClassifier(random_state=1, n_estimators=50, max_depth=9,min_samples_split=6, min_samples_leaf=4)\n",
        "rf.fit(titanic[predictors],titanic[\"Survived\"])\n",
        "kf = KFold(n_splits=5,random_state=0,shuffle=False)\n",
        "predictions = cross_val_predict(rf, titanic[predictors],titanic[\"Survived\"],cv=kf)\n",
        "predictions = pd.Series(predictions)\n",
        "scores = cross_val_score(rf, titanic[predictors], titanic[\"Survived\"],scoring='f1', cv=kf)\n",
        "# Take the mean of the scores (because we have one for each fold)\n",
        "print(scores.mean())"
      ],
      "execution_count": 0,
      "outputs": [
        {
          "output_type": "stream",
          "text": [
            "/usr/local/lib/python3.6/dist-packages/sklearn/model_selection/_split.py:296: FutureWarning: Setting a random_state has no effect since shuffle is False. This will raise an error in 0.24. You should leave random_state to its default (None), or set shuffle=True.\n",
            "  FutureWarning\n"
          ],
          "name": "stderr"
        },
        {
          "output_type": "stream",
          "text": [
            "0.7652997287826453\n"
          ],
          "name": "stdout"
        }
      ]
    },
    {
      "cell_type": "code",
      "metadata": {
        "id": "M2ep0agVKnJd",
        "colab_type": "code",
        "outputId": "42a23519-512f-4152-ec98-3a61e7aa5c90",
        "colab": {
          "base_uri": "https://localhost:8080/",
          "height": 352
        }
      },
      "source": [
        "importances=rf.feature_importances_\n",
        "std = np.std([rf.feature_importances_ for tree in rf.estimators_],\n",
        "             axis=0)\n",
        "indices = np.argsort(importances)[::-1]\n",
        "sorted_important_features=[]\n",
        "for i in indices:\n",
        "    sorted_important_features.append(predictors[i])\n",
        "#predictors=titanic.columns\n",
        "plt.figure()\n",
        "plt.title(\"Feature Importances By Random Forest Model\")\n",
        "plt.bar(range(np.size(predictors)), importances[indices],\n",
        "       color=\"r\", yerr=std[indices], align=\"center\")\n",
        "plt.xticks(range(np.size(predictors)), sorted_important_features, rotation='vertical')\n",
        "\n",
        "plt.xlim([-1, np.size(predictors)]);"
      ],
      "execution_count": 0,
      "outputs": [
        {
          "output_type": "display_data",
          "data": {
            "image/png": "[encoded data removed]",
            "text/plain": [
              "<Figure size 432x288 with 1 Axes>"
            ]
          },
          "metadata": {
            "tags": []
          }
        }
      ]
    },
    {
      "cell_type": "code",
      "metadata": {
        "id": "eer34IneKnHk",
        "colab_type": "code",
        "outputId": "68d0851d-0f20-42dc-cbb8-8cbb5e8ec4f7",
        "colab": {
          "base_uri": "https://localhost:8080/",
          "height": 345
        }
      },
      "source": [
        "import numpy as np\n",
        "from sklearn.ensemble import GradientBoostingClassifier\n",
        "\n",
        "from sklearn.feature_selection import SelectKBest, f_classif\n",
        "# from sklearn.cross_validation import KFold\n",
        "%matplotlib inline\n",
        "import matplotlib.pyplot as plt\n",
        "#predictors = [\"Pclass\", \"Sex\", \"Age\", \"Fare\",\n",
        " #             \"FsizeD\", \"Embarked\", \"NlengthD\",\"Deck\",\"TicketNumber\"]\n",
        "predictors = [\"Pclass\", \"Sex\", \"Age\",\n",
        "              \"Fare\",\"NlengthD\", \"FsizeD\",\"NameLength\",\"Deck\",\"Embarked\"]\n",
        "# Perform feature selection\n",
        "selector = SelectKBest(f_classif, k=5)\n",
        "selector.fit(titanic[predictors], titanic[\"Survived\"])\n",
        "\n",
        "# Get the raw p-values for each feature, and transform from p-values into scores\n",
        "scores = -np.log10(selector.pvalues_)\n",
        "\n",
        "indices = np.argsort(scores)[::-1]\n",
        "\n",
        "sorted_important_features=[]\n",
        "for i in indices:\n",
        "    sorted_important_features.append(predictors[i])\n",
        "\n",
        "plt.figure()\n",
        "plt.title(\"Feature Importances By SelectKBest\")\n",
        "plt.bar(range(np.size(predictors)), scores[indices],\n",
        "       color=\"seagreen\", yerr=std[indices], align=\"center\")\n",
        "plt.xticks(range(np.size(predictors)), sorted_important_features, rotation='vertical')\n",
        "\n",
        "plt.xlim([-1, np.size(predictors)]);"
      ],
      "execution_count": 0,
      "outputs": [
        {
          "output_type": "display_data",
          "data": {
            "image/png": "[encoded data removed]",
            "text/plain": [
              "<Figure size 432x288 with 1 Axes>"
            ]
          },
          "metadata": {
            "tags": []
          }
        }
      ]
    },
    {
      "cell_type": "code",
      "metadata": {
        "id": "9nCg5IxxKnE1",
        "colab_type": "code",
        "outputId": "a361c63b-87c2-49a2-b4bf-c9aafaa81bf4",
        "colab": {
          "base_uri": "https://localhost:8080/",
          "height": 1000
        }
      },
      "source": [
        "from sklearn.linear_model import LogisticRegression\n",
        "predictors = [\"Pclass\", \"Sex\", \"Age\", \"Fare\", \"Embarked\",\"NlengthD\",\n",
        "              \"FsizeD\", \"Title\",\"Deck\"]\n",
        "\n",
        "# Initialize our algorithm\n",
        "lr = LogisticRegression(random_state=1)\n",
        "# Compute the accuracy score for all the cross validation folds.  \n",
        "cv = ShuffleSplit(n_splits=10, test_size=0.3, random_state=50)\n",
        "scores = cross_val_score(lr, titanic[predictors], titanic[\"Survived\"], scoring='f1',cv=cv)\n",
        "print(scores.mean())"
      ],
      "execution_count": 0,
      "outputs": [
        {
          "output_type": "stream",
          "text": [
            "/usr/local/lib/python3.6/dist-packages/sklearn/linear_model/_logistic.py:940: ConvergenceWarning: lbfgs failed to converge (status=1):\n",
            "STOP: TOTAL NO. of ITERATIONS REACHED LIMIT.\n",
            "\n",
            "Increase the number of iterations (max_iter) or scale the data as shown in:\n",
            "    https://scikit-learn.org/stable/modules/preprocessing.html\n",
            "Please also refer to the documentation for alternative solver options:\n",
            "    https://scikit-learn.org/stable/modules/linear_model.html#logistic-regression\n",
            "  extra_warning_msg=_LOGISTIC_SOLVER_CONVERGENCE_MSG)\n",
            "/usr/local/lib/python3.6/dist-packages/sklearn/linear_model/_logistic.py:940: ConvergenceWarning: lbfgs failed to converge (status=1):\n",
            "STOP: TOTAL NO. of ITERATIONS REACHED LIMIT.\n",
            "\n",
            "Increase the number of iterations (max_iter) or scale the data as shown in:\n",
            "    https://scikit-learn.org/stable/modules/preprocessing.html\n",
            "Please also refer to the documentation for alternative solver options:\n",
            "    https://scikit-learn.org/stable/modules/linear_model.html#logistic-regression\n",
            "  extra_warning_msg=_LOGISTIC_SOLVER_CONVERGENCE_MSG)\n",
            "/usr/local/lib/python3.6/dist-packages/sklearn/linear_model/_logistic.py:940: ConvergenceWarning: lbfgs failed to converge (status=1):\n",
            "STOP: TOTAL NO. of ITERATIONS REACHED LIMIT.\n",
            "\n",
            "Increase the number of iterations (max_iter) or scale the data as shown in:\n",
            "    https://scikit-learn.org/stable/modules/preprocessing.html\n",
            "Please also refer to the documentation for alternative solver options:\n",
            "    https://scikit-learn.org/stable/modules/linear_model.html#logistic-regression\n",
            "  extra_warning_msg=_LOGISTIC_SOLVER_CONVERGENCE_MSG)\n",
            "/usr/local/lib/python3.6/dist-packages/sklearn/linear_model/_logistic.py:940: ConvergenceWarning: lbfgs failed to converge (status=1):\n",
            "STOP: TOTAL NO. of ITERATIONS REACHED LIMIT.\n",
            "\n",
            "Increase the number of iterations (max_iter) or scale the data as shown in:\n",
            "    https://scikit-learn.org/stable/modules/preprocessing.html\n",
            "Please also refer to the documentation for alternative solver options:\n",
            "    https://scikit-learn.org/stable/modules/linear_model.html#logistic-regression\n",
            "  extra_warning_msg=_LOGISTIC_SOLVER_CONVERGENCE_MSG)\n",
            "/usr/local/lib/python3.6/dist-packages/sklearn/linear_model/_logistic.py:940: ConvergenceWarning: lbfgs failed to converge (status=1):\n",
            "STOP: TOTAL NO. of ITERATIONS REACHED LIMIT.\n",
            "\n",
            "Increase the number of iterations (max_iter) or scale the data as shown in:\n",
            "    https://scikit-learn.org/stable/modules/preprocessing.html\n",
            "Please also refer to the documentation for alternative solver options:\n",
            "    https://scikit-learn.org/stable/modules/linear_model.html#logistic-regression\n",
            "  extra_warning_msg=_LOGISTIC_SOLVER_CONVERGENCE_MSG)\n",
            "/usr/local/lib/python3.6/dist-packages/sklearn/linear_model/_logistic.py:940: ConvergenceWarning: lbfgs failed to converge (status=1):\n",
            "STOP: TOTAL NO. of ITERATIONS REACHED LIMIT.\n",
            "\n",
            "Increase the number of iterations (max_iter) or scale the data as shown in:\n",
            "    https://scikit-learn.org/stable/modules/preprocessing.html\n",
            "Please also refer to the documentation for alternative solver options:\n",
            "    https://scikit-learn.org/stable/modules/linear_model.html#logistic-regression\n",
            "  extra_warning_msg=_LOGISTIC_SOLVER_CONVERGENCE_MSG)\n",
            "/usr/local/lib/python3.6/dist-packages/sklearn/linear_model/_logistic.py:940: ConvergenceWarning: lbfgs failed to converge (status=1):\n",
            "STOP: TOTAL NO. of ITERATIONS REACHED LIMIT.\n",
            "\n",
            "Increase the number of iterations (max_iter) or scale the data as shown in:\n",
            "    https://scikit-learn.org/stable/modules/preprocessing.html\n",
            "Please also refer to the documentation for alternative solver options:\n",
            "    https://scikit-learn.org/stable/modules/linear_model.html#logistic-regression\n",
            "  extra_warning_msg=_LOGISTIC_SOLVER_CONVERGENCE_MSG)\n"
          ],
          "name": "stderr"
        },
        {
          "output_type": "stream",
          "text": [
            "0.7520867707001014\n"
          ],
          "name": "stdout"
        },
        {
          "output_type": "stream",
          "text": [
            "/usr/local/lib/python3.6/dist-packages/sklearn/linear_model/_logistic.py:940: ConvergenceWarning: lbfgs failed to converge (status=1):\n",
            "STOP: TOTAL NO. of ITERATIONS REACHED LIMIT.\n",
            "\n",
            "Increase the number of iterations (max_iter) or scale the data as shown in:\n",
            "    https://scikit-learn.org/stable/modules/preprocessing.html\n",
            "Please also refer to the documentation for alternative solver options:\n",
            "    https://scikit-learn.org/stable/modules/linear_model.html#logistic-regression\n",
            "  extra_warning_msg=_LOGISTIC_SOLVER_CONVERGENCE_MSG)\n",
            "/usr/local/lib/python3.6/dist-packages/sklearn/linear_model/_logistic.py:940: ConvergenceWarning: lbfgs failed to converge (status=1):\n",
            "STOP: TOTAL NO. of ITERATIONS REACHED LIMIT.\n",
            "\n",
            "Increase the number of iterations (max_iter) or scale the data as shown in:\n",
            "    https://scikit-learn.org/stable/modules/preprocessing.html\n",
            "Please also refer to the documentation for alternative solver options:\n",
            "    https://scikit-learn.org/stable/modules/linear_model.html#logistic-regression\n",
            "  extra_warning_msg=_LOGISTIC_SOLVER_CONVERGENCE_MSG)\n",
            "/usr/local/lib/python3.6/dist-packages/sklearn/linear_model/_logistic.py:940: ConvergenceWarning: lbfgs failed to converge (status=1):\n",
            "STOP: TOTAL NO. of ITERATIONS REACHED LIMIT.\n",
            "\n",
            "Increase the number of iterations (max_iter) or scale the data as shown in:\n",
            "    https://scikit-learn.org/stable/modules/preprocessing.html\n",
            "Please also refer to the documentation for alternative solver options:\n",
            "    https://scikit-learn.org/stable/modules/linear_model.html#logistic-regression\n",
            "  extra_warning_msg=_LOGISTIC_SOLVER_CONVERGENCE_MSG)\n"
          ],
          "name": "stderr"
        }
      ]
    },
    {
      "cell_type": "code",
      "metadata": {
        "id": "fQW1XXJsKnA_",
        "colab_type": "code",
        "outputId": "f59ff64b-a6d5-40fd-cbd8-9271eeba99c6",
        "colab": {
          "base_uri": "https://localhost:8080/",
          "height": 35
        }
      },
      "source": [
        "from sklearn.ensemble import AdaBoostClassifier\n",
        "predictors = [\"Pclass\", \"Sex\", \"Age\", \"Fare\", \"Embarked\",\"NlengthD\",\n",
        "              \"FsizeD\", \"Title\",\"Deck\",\"TicketNumber\"]\n",
        "adb=AdaBoostClassifier()\n",
        "adb.fit(titanic[predictors],titanic[\"Survived\"])\n",
        "cv = ShuffleSplit(n_splits=10, test_size=0.3, random_state=50)\n",
        "scores = cross_val_score(adb, titanic[predictors], titanic[\"Survived\"], scoring='f1',cv=cv)\n",
        "print(scores.mean())"
      ],
      "execution_count": 0,
      "outputs": [
        {
          "output_type": "stream",
          "text": [
            "0.7543612348332751\n"
          ],
          "name": "stdout"
        }
      ]
    },
    {
      "cell_type": "code",
      "metadata": {
        "id": "SLkfX7FTK53z",
        "colab_type": "code",
        "colab": {}
      },
      "source": [
        "predictions=[\"Pclass\", \"Sex\", \"Age\", \"Fare\", \"Embarked\",\"NlengthD\",\n",
        "              \"FsizeD\", \"Title\",\"Deck\",\"NameLength\",\"TicketNumber\"]\n",
        "from sklearn.ensemble import VotingClassifier\n",
        "eclf1 = VotingClassifier(estimators=[\n",
        "        ('lr', lr), ('rf', rf), ('adb', adb)], voting='soft')\n",
        "eclf1 = eclf1.fit(titanic[predictors], titanic[\"Survived\"])\n",
        "predictions=eclf1.predict(titanic[predictors])\n",
        "predictions\n",
        "\n",
        "test_predictions=eclf1.predict(titanic_test[predictors])\n",
        "\n",
        "test_predictions=test_predictions.astype(int)\n",
        "submission = pd.DataFrame({\n",
        "        \"PassengerId\": titanic_test[\"PassengerId\"],\n",
        "        \"Survived\": test_predictions\n",
        "    })\n",
        "\n",
        "submission.to_csv(\"titanic_submission.csv\", index=False)"
      ],
      "execution_count": 0,
      "outputs": []
    },
    {
      "cell_type": "markdown",
      "metadata": {
        "id": "Qbr_345CJgYK",
        "colab_type": "text"
      },
      "source": [
        ""
      ]
    }
  ]
}