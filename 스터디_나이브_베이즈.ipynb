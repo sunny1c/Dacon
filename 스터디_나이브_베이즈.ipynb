{
  "nbformat": 4,
  "nbformat_minor": 0,
  "metadata": {
    "colab": {
      "name": "스터디 나이브 베이즈.ipynb",
      "provenance": [],
      "collapsed_sections": [],
      "toc_visible": true,
      "authorship_tag": "ABX9TyOXfErXTU4H+cR7SYeRTjT2",
      "include_colab_link": true
    },
    "kernelspec": {
      "name": "python3",
      "display_name": "Python 3"
    }
  },
  "cells": [
    {
      "cell_type": "markdown",
      "metadata": {
        "id": "view-in-github",
        "colab_type": "text"
      },
      "source": [
        "<a href=\"https://colab.research.google.com/github/sunny1c/Dacon/blob/master/%EC%8A%A4%ED%84%B0%EB%94%94_%EB%82%98%EC%9D%B4%EB%B8%8C_%EB%B2%A0%EC%9D%B4%EC%A6%88.ipynb\" target=\"_parent\"><img src=\"https://colab.research.google.com/assets/colab-badge.svg\" alt=\"Open In Colab\"/></a>"
      ]
    },
    {
      "cell_type": "markdown",
      "metadata": {
        "id": "ELUfIld1kmdv",
        "colab_type": "text"
      },
      "source": [
        "### 나이브 베이즈 분류기\n",
        "*   베이즈 정리\n",
        "1.   조건부 확률의 정의\n",
        "> P(A|B) = P(A,B)/P(B)\n",
        "2.   베이즈 정리\n",
        "> P(A|B) = P(B|A)*P(A) / P(B)<br>=> 조건부 확률 정의에 의함\n",
        "\n",
        ">>> P(A|B)<br>= P(A,B)/P(B)<br>=P(A,B)/P(A) / P(B)/P(A)<br>=P(B|A) / P(B)/P(A)<br>= P(B|A)*P(A) / P(B)\n",
        "\n",
        "*   스팸 메일 필터 예제\n",
        "> 정상메일과 스팸메일을 분류하는 문제\n",
        "\n",
        "1. 메일내용을 보고 정상 OR 스팸 메일인지 분류!\n",
        "> = P(스팸|메일내용) > P(정상|메일내용) 인지<br>P(스팸|메일내용) < P(정상|메일내용) 인지?\n",
        "\n",
        "#### 즉, P(스팸|메일내용) & P(정상|메일내용)  구해서 비교하는 문제임\n",
        "\n",
        "2. P(스팸|메일내용) 구하는 방법\n",
        "> P(스팸|메일내용) = (P(메일내용|스팸) × P(스팸)) / P(메일내용)<br>P(정상|메일내용) = (P(메일내용|정상) × P(정상)) / P(메일내용)\n",
        "\n",
        ">> 어차피 비교니까 P(메일내용) 은 빼고 생각하자\n",
        "\n",
        ">> P(스팸|메일내용) = P(메일내용|스팸) × P(스팸)<br>P(정상|메일내용) = P(메일내용|정상) × P(정상)\n",
        "\n",
        "#### 그럼 이제 P(스팸|메일내용) & P(정상|메일내용) 은???\n",
        "\n",
        ">> P(스팸|메일내용)<br> = P(메일내용|스팸) × P(스팸)<br> = P(메일 속 단어 1|스팸) × P(메일 속 단어 2|스팸) × P(메일 속 단어 3|스팸) × P(스팸)\n",
        "\n",
        ">>> P(메일 속 단어 | 스팸) 는 데이터로 부터 구할 수 있음<br>메일 내용 속 단어가 나오는 건 독립이라 가정(계산의 편리성을 위해)\n",
        "\n",
        ">> P(정상|메일내용) 도 같은 방법을 구한다.\n",
        "\n",
        "3. 실제 계산 예제\n",
        ">데이터가 아래와 같다<br>\n",
        "1\t me free lottery 스팸 메일<br>\n",
        "2\t free get free you 스팸 메일<br>\n",
        "3\t you free scholarship 정상 메일<br>\n",
        "4\t free to contact me 정상 메일<br>\n",
        "5\t you won award  정상 메일<br>\n",
        "6\t you ticket lottery 스팸 메일<br>\n",
        "\n",
        ">> 메일 내용이 \"you free lottery\" 일 때 스팸 메일 확률은?\n",
        ">>> P(스팸| \"you free lottery\" ) <br>= P(\"you\" |스팸) × P(\"free\"|스팸) × P(\"lottery\"|스팸) × P(스팸)\n",
        "\n",
        ">>> P(\"you\" |스팸) ???\n",
        "\n",
        ">>>> 스팸 메일에 포함된 단어 : me free lottery free get free you you ticket lottery <br> 총 10개!! 그 중 \"you\" 는 2번\n",
        "\n",
        ">>>> P(\"you\" |스팸) = 2/10\n",
        "\n",
        ">>> P(스팸) ???\n",
        "\n",
        ">>>> 전체 메일 6개 중 3개가 스팸 메일이므로 0.5 !!!\n",
        "\n",
        ">>> P(스팸| \"you free lottery\" ) <br>= P(\"you\" |스팸) × P(\"free\"|스팸) × P(\"lottery\"|스팸) × P(스팸)<br>=  2/10 × 3/10 × 2/10 × 0.5 = 0.006\n",
        "\n",
        ">>> P(정상| \"you free lottery\" ) <br>= P(\"you\" |정상) × P(\"free\"|정상) × P(\"lottery\"|정상) × P(정상)<br>= 2/10 × 2/10 × 0/10 × 0.5 = 0\n",
        "\n",
        ">>> P(스팸| \"you free lottery\" ) > P(정상| \"you free lottery\" ) 이므로 스팸으로 분류"
      ]
    },
    {
      "cell_type": "markdown",
      "metadata": {
        "id": "Mpa_4BAtr_En",
        "colab_type": "text"
      },
      "source": [
        "### 케글 데이터셋 예제\n",
        "\n",
        "*   스팸 분류 데이터 \n",
        "> https://www.kaggle.com/uciml/sms-spam-collection-dataset/version/1\n",
        "*   나이브 베이즈로 분류기를 만드는 예제 코드"
      ]
    },
    {
      "cell_type": "code",
      "metadata": {
        "id": "FEmMzyIjshhl",
        "colab_type": "code",
        "colab": {}
      },
      "source": [
        "import pandas as pd # 데이터 입력 및 변환\n",
        "\n",
        "from sklearn.model_selection import train_test_split # train/test 데이터 나눔\n",
        "from sklearn.feature_extraction.text import CountVectorizer # 메일 속 단어 카운트를 위함\n",
        "from sklearn.naive_bayes import MultinomialNB # 나이브 베이즈 모델\n",
        "from sklearn.metrics import accuracy_score #정확도 계산"
      ],
      "execution_count": 0,
      "outputs": []
    },
    {
      "cell_type": "code",
      "metadata": {
        "id": "htcXjy2Pslrm",
        "colab_type": "code",
        "colab": {}
      },
      "source": [
        "# 데이터 가져오기\n",
        "df = pd.read_csv('/content/spam.csv', delimiter=',',encoding='latin-1')"
      ],
      "execution_count": 0,
      "outputs": []
    },
    {
      "cell_type": "code",
      "metadata": {
        "id": "w5bcP-4GtB65",
        "colab_type": "code",
        "outputId": "2e782fd0-39b0-414c-b874-143e88313145",
        "colab": {
          "base_uri": "https://localhost:8080/",
          "height": 200
        }
      },
      "source": [
        "df.head()"
      ],
      "execution_count": 0,
      "outputs": [
        {
          "output_type": "execute_result",
          "data": {
            "text/html": [
              "<div>\n",
              "<style scoped>\n",
              "    .dataframe tbody tr th:only-of-type {\n",
              "        vertical-align: middle;\n",
              "    }\n",
              "\n",
              "    .dataframe tbody tr th {\n",
              "        vertical-align: top;\n",
              "    }\n",
              "\n",
              "    .dataframe thead th {\n",
              "        text-align: right;\n",
              "    }\n",
              "</style>\n",
              "<table border=\"1\" class=\"dataframe\">\n",
              "  <thead>\n",
              "    <tr style=\"text-align: right;\">\n",
              "      <th></th>\n",
              "      <th>v1</th>\n",
              "      <th>v2</th>\n",
              "      <th>Unnamed: 2</th>\n",
              "      <th>Unnamed: 3</th>\n",
              "      <th>Unnamed: 4</th>\n",
              "    </tr>\n",
              "  </thead>\n",
              "  <tbody>\n",
              "    <tr>\n",
              "      <th>0</th>\n",
              "      <td>ham</td>\n",
              "      <td>Go until jurong point, crazy.. Available only ...</td>\n",
              "      <td>NaN</td>\n",
              "      <td>NaN</td>\n",
              "      <td>NaN</td>\n",
              "    </tr>\n",
              "    <tr>\n",
              "      <th>1</th>\n",
              "      <td>ham</td>\n",
              "      <td>Ok lar... Joking wif u oni...</td>\n",
              "      <td>NaN</td>\n",
              "      <td>NaN</td>\n",
              "      <td>NaN</td>\n",
              "    </tr>\n",
              "    <tr>\n",
              "      <th>2</th>\n",
              "      <td>spam</td>\n",
              "      <td>Free entry in 2 a wkly comp to win FA Cup fina...</td>\n",
              "      <td>NaN</td>\n",
              "      <td>NaN</td>\n",
              "      <td>NaN</td>\n",
              "    </tr>\n",
              "    <tr>\n",
              "      <th>3</th>\n",
              "      <td>ham</td>\n",
              "      <td>U dun say so early hor... U c already then say...</td>\n",
              "      <td>NaN</td>\n",
              "      <td>NaN</td>\n",
              "      <td>NaN</td>\n",
              "    </tr>\n",
              "    <tr>\n",
              "      <th>4</th>\n",
              "      <td>ham</td>\n",
              "      <td>Nah I don't think he goes to usf, he lives aro...</td>\n",
              "      <td>NaN</td>\n",
              "      <td>NaN</td>\n",
              "      <td>NaN</td>\n",
              "    </tr>\n",
              "  </tbody>\n",
              "</table>\n",
              "</div>"
            ],
            "text/plain": [
              "     v1  ... Unnamed: 4\n",
              "0   ham  ...        NaN\n",
              "1   ham  ...        NaN\n",
              "2  spam  ...        NaN\n",
              "3   ham  ...        NaN\n",
              "4   ham  ...        NaN\n",
              "\n",
              "[5 rows x 5 columns]"
            ]
          },
          "metadata": {
            "tags": []
          },
          "execution_count": 12
        }
      ]
    },
    {
      "cell_type": "code",
      "metadata": {
        "id": "QR26J9butKUV",
        "colab_type": "code",
        "colab": {}
      },
      "source": [
        "X = df.v2 # 메일 내용\n",
        "y = df.v1 # ham / spam 정답 데이터"
      ],
      "execution_count": 0,
      "outputs": []
    },
    {
      "cell_type": "code",
      "metadata": {
        "id": "_UrK29tZtVR0",
        "colab_type": "code",
        "outputId": "be82626c-c3d8-4302-ae45-e5e702997945",
        "colab": {
          "base_uri": "https://localhost:8080/",
          "height": 124
        }
      },
      "source": [
        "X[0:5]"
      ],
      "execution_count": 0,
      "outputs": [
        {
          "output_type": "execute_result",
          "data": {
            "text/plain": [
              "0    Go until jurong point, crazy.. Available only ...\n",
              "1                        Ok lar... Joking wif u oni...\n",
              "2    Free entry in 2 a wkly comp to win FA Cup fina...\n",
              "3    U dun say so early hor... U c already then say...\n",
              "4    Nah I don't think he goes to usf, he lives aro...\n",
              "Name: v2, dtype: object"
            ]
          },
          "metadata": {
            "tags": []
          },
          "execution_count": 22
        }
      ]
    },
    {
      "cell_type": "code",
      "metadata": {
        "id": "5XijL_nztWaV",
        "colab_type": "code",
        "outputId": "14a6b10e-5933-4c95-c597-4914e504bb8d",
        "colab": {
          "base_uri": "https://localhost:8080/",
          "height": 124
        }
      },
      "source": [
        "y[0:5]"
      ],
      "execution_count": 0,
      "outputs": [
        {
          "output_type": "execute_result",
          "data": {
            "text/plain": [
              "0     ham\n",
              "1     ham\n",
              "2    spam\n",
              "3     ham\n",
              "4     ham\n",
              "Name: v1, dtype: object"
            ]
          },
          "metadata": {
            "tags": []
          },
          "execution_count": 23
        }
      ]
    },
    {
      "cell_type": "code",
      "metadata": {
        "id": "nQ33G98ftZ18",
        "colab_type": "code",
        "colab": {}
      },
      "source": [
        "# train, test 데이터 나눔\n",
        "X_train, X_test, y_train, y_test = train_test_split(X, y)"
      ],
      "execution_count": 0,
      "outputs": []
    },
    {
      "cell_type": "code",
      "metadata": {
        "id": "LZjLViw2uNlm",
        "colab_type": "code",
        "colab": {}
      },
      "source": [
        "# 메일 속 단어 카운트\n",
        "vectorizer = CountVectorizer()\n",
        "counts = vectorizer.fit_transform(X_train)"
      ],
      "execution_count": 0,
      "outputs": []
    },
    {
      "cell_type": "code",
      "metadata": {
        "id": "HmeYe7U9uNo3",
        "colab_type": "code",
        "outputId": "5286ce10-dd16-4f75-89df-379ff404bead",
        "colab": {
          "base_uri": "https://localhost:8080/",
          "height": 35
        }
      },
      "source": [
        "# 나이브 베이즈 분류기 만들기\n",
        "classifier = MultinomialNB()\n",
        "targets = y_train\n",
        "classifier.fit(counts, targets)"
      ],
      "execution_count": 0,
      "outputs": [
        {
          "output_type": "execute_result",
          "data": {
            "text/plain": [
              "MultinomialNB(alpha=1.0, class_prior=None, fit_prior=True)"
            ]
          },
          "metadata": {
            "tags": []
          },
          "execution_count": 37
        }
      ]
    },
    {
      "cell_type": "markdown",
      "metadata": {
        "id": "NIDn4Evt4mH0",
        "colab_type": "text"
      },
      "source": [
        "테스트 데이터 에 적용"
      ]
    },
    {
      "cell_type": "code",
      "metadata": {
        "id": "JVQJGbtcuNkH",
        "colab_type": "code",
        "outputId": "154b88db-f108-4ca9-90b9-7d3c4138bc56",
        "colab": {
          "base_uri": "https://localhost:8080/",
          "height": 35
        }
      },
      "source": [
        "X_test.values[0] # 메일 내용"
      ],
      "execution_count": 0,
      "outputs": [
        {
          "output_type": "execute_result",
          "data": {
            "text/plain": [
              "'Hanging out with my brother and his family'"
            ]
          },
          "metadata": {
            "tags": []
          },
          "execution_count": 41
        }
      ]
    },
    {
      "cell_type": "code",
      "metadata": {
        "id": "SjQajsj1uNhK",
        "colab_type": "code",
        "colab": {}
      },
      "source": [
        "test_count = vectorizer.transform(X_test)\n",
        "predictions = classifier.predict(test_count)"
      ],
      "execution_count": 0,
      "outputs": []
    },
    {
      "cell_type": "code",
      "metadata": {
        "id": "WAfvGtECvuS7",
        "colab_type": "code",
        "outputId": "2ddbb70d-b78f-4d98-c055-a36906215590",
        "colab": {
          "base_uri": "https://localhost:8080/",
          "height": 200
        }
      },
      "source": [
        "pd.DataFrame({'actual' : y_test, 'pred' : predictions}).head()"
      ],
      "execution_count": 0,
      "outputs": [
        {
          "output_type": "execute_result",
          "data": {
            "text/html": [
              "<div>\n",
              "<style scoped>\n",
              "    .dataframe tbody tr th:only-of-type {\n",
              "        vertical-align: middle;\n",
              "    }\n",
              "\n",
              "    .dataframe tbody tr th {\n",
              "        vertical-align: top;\n",
              "    }\n",
              "\n",
              "    .dataframe thead th {\n",
              "        text-align: right;\n",
              "    }\n",
              "</style>\n",
              "<table border=\"1\" class=\"dataframe\">\n",
              "  <thead>\n",
              "    <tr style=\"text-align: right;\">\n",
              "      <th></th>\n",
              "      <th>actual</th>\n",
              "      <th>pred</th>\n",
              "    </tr>\n",
              "  </thead>\n",
              "  <tbody>\n",
              "    <tr>\n",
              "      <th>3518</th>\n",
              "      <td>ham</td>\n",
              "      <td>ham</td>\n",
              "    </tr>\n",
              "    <tr>\n",
              "      <th>1156</th>\n",
              "      <td>ham</td>\n",
              "      <td>ham</td>\n",
              "    </tr>\n",
              "    <tr>\n",
              "      <th>1335</th>\n",
              "      <td>ham</td>\n",
              "      <td>ham</td>\n",
              "    </tr>\n",
              "    <tr>\n",
              "      <th>3705</th>\n",
              "      <td>ham</td>\n",
              "      <td>ham</td>\n",
              "    </tr>\n",
              "    <tr>\n",
              "      <th>1847</th>\n",
              "      <td>spam</td>\n",
              "      <td>spam</td>\n",
              "    </tr>\n",
              "  </tbody>\n",
              "</table>\n",
              "</div>"
            ],
            "text/plain": [
              "     actual  pred\n",
              "3518    ham   ham\n",
              "1156    ham   ham\n",
              "1335    ham   ham\n",
              "3705    ham   ham\n",
              "1847   spam  spam"
            ]
          },
          "metadata": {
            "tags": []
          },
          "execution_count": 47
        }
      ]
    },
    {
      "cell_type": "code",
      "metadata": {
        "id": "sFAhFl6fv_E3",
        "colab_type": "code",
        "outputId": "cf327ce4-6e55-47ad-9fac-4901d4a4ede2",
        "colab": {
          "base_uri": "https://localhost:8080/",
          "height": 35
        }
      },
      "source": [
        "print(\"정확도:\", accuracy_score(y_test.values, predictions)) "
      ],
      "execution_count": 0,
      "outputs": [
        {
          "output_type": "stream",
          "text": [
            "정확도: 0.9892318736539842\n"
          ],
          "name": "stdout"
        }
      ]
    }
  ]
}